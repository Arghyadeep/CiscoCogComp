{
 "cells": [
  {
   "cell_type": "code",
   "execution_count": 70,
   "metadata": {},
   "outputs": [],
   "source": [
    "#read in csv file\n",
    "import csv\n",
    "#vectorizes data.csv\n",
    "from sklearn.feature_extraction.text import TfidfVectorizer\n",
    "#used for dataframes\n",
    "import pandas as pd\n",
    "from sklearn import tree\n",
    "import matplotlib.pyplot as plt\n",
    "from matplotlib import style\n",
    "style.use('ggplot')\n",
    "import numpy as np\n",
    "from sklearn.cluster import KMeans\n",
    "from sklearn import preprocessing, model_selection\n",
    "import nltk\n",
    "from nltk import word_tokenize\n",
    "#word2vec\n",
    "from gensim import models\n",
    "from gensim.models import Word2Vec\n",
    "from pprint import pprint\n"
   ]
  },
  {
   "cell_type": "code",
   "execution_count": 71,
   "metadata": {},
   "outputs": [
    {
     "data": {
      "text/plain": [
       "[u'created',\n",
       " u'original_post',\n",
       " u'title',\n",
       " u'url',\n",
       " u'8CAT',\n",
       " u'7CAT',\n",
       " u'6CAT',\n",
       " u'5CAT',\n",
       " u'4CAT',\n",
       " u'org data']"
      ]
     },
     "execution_count": 71,
     "metadata": {},
     "output_type": "execute_result"
    }
   ],
   "source": [
    "#reads in \n",
    "df = pd.read_csv('M1.csv', encoding='utf-8')\n",
    "list(df)"
   ]
  },
  {
   "cell_type": "code",
   "execution_count": 72,
   "metadata": {},
   "outputs": [
    {
     "data": {
      "text/plain": [
       "pandas.core.series.Series"
      ]
     },
     "execution_count": 72,
     "metadata": {},
     "output_type": "execute_result"
    }
   ],
   "source": [
    "type(df['original_post'])"
   ]
  },
  {
   "cell_type": "code",
   "execution_count": 73,
   "metadata": {},
   "outputs": [
    {
     "data": {
      "text/html": [
       "<div>\n",
       "<style>\n",
       "    .dataframe thead tr:only-child th {\n",
       "        text-align: right;\n",
       "    }\n",
       "\n",
       "    .dataframe thead th {\n",
       "        text-align: left;\n",
       "    }\n",
       "\n",
       "    .dataframe tbody tr th {\n",
       "        vertical-align: top;\n",
       "    }\n",
       "</style>\n",
       "<table border=\"1\" class=\"dataframe\">\n",
       "  <thead>\n",
       "    <tr style=\"text-align: right;\">\n",
       "      <th></th>\n",
       "      <th>created</th>\n",
       "      <th>original_post</th>\n",
       "      <th>title</th>\n",
       "      <th>url</th>\n",
       "      <th>8CAT</th>\n",
       "      <th>7CAT</th>\n",
       "      <th>6CAT</th>\n",
       "      <th>5CAT</th>\n",
       "      <th>4CAT</th>\n",
       "      <th>org data</th>\n",
       "    </tr>\n",
       "  </thead>\n",
       "  <tbody>\n",
       "    <tr>\n",
       "      <th>0</th>\n",
       "      <td>2015</td>\n",
       "      <td>need help set up qo voip between two asa 5505 ...</td>\n",
       "      <td>VoIP QoS for Site-to-Site Tunnel</td>\n",
       "      <td>https://supportforums.cisco.com/discussion/123...</td>\n",
       "      <td>6</td>\n",
       "      <td>6</td>\n",
       "      <td>6</td>\n",
       "      <td>3</td>\n",
       "      <td>3</td>\n",
       "      <td>x</td>\n",
       "    </tr>\n",
       "    <tr>\n",
       "      <th>1</th>\n",
       "      <td>2015</td>\n",
       "      <td>anyway get asa asa site site vpn besid interes...</td>\n",
       "      <td>ASA Site to Site VPN (only comes up with inter...</td>\n",
       "      <td>https://supportforums.cisco.com/discussion/123...</td>\n",
       "      <td>6</td>\n",
       "      <td>6</td>\n",
       "      <td>6</td>\n",
       "      <td>3</td>\n",
       "      <td>3</td>\n",
       "      <td>x</td>\n",
       "    </tr>\n",
       "    <tr>\n",
       "      <th>2</th>\n",
       "      <td>2015</td>\n",
       "      <td>commun get stuck in sitetosit vpn configur bet...</td>\n",
       "      <td>IPsec VPN site-to-site between ASA and Cisco R...</td>\n",
       "      <td>https://supportforums.cisco.com/discussion/123...</td>\n",
       "      <td>0</td>\n",
       "      <td>1</td>\n",
       "      <td>1</td>\n",
       "      <td>0</td>\n",
       "      <td>1</td>\n",
       "      <td>x</td>\n",
       "    </tr>\n",
       "    <tr>\n",
       "      <th>3</th>\n",
       "      <td>2015</td>\n",
       "      <td>possibl make encrypt without buyingipsec vpn s...</td>\n",
       "      <td>7600 and 6500 Series VPN</td>\n",
       "      <td>https://supportforums.cisco.com/discussion/123...</td>\n",
       "      <td>3</td>\n",
       "      <td>3</td>\n",
       "      <td>3</td>\n",
       "      <td>3</td>\n",
       "      <td>3</td>\n",
       "      <td>x</td>\n",
       "    </tr>\n",
       "    <tr>\n",
       "      <th>4</th>\n",
       "      <td>2015</td>\n",
       "      <td>pix 515e sa get output vpn found one connect t...</td>\n",
       "      <td>show crypto isakmp</td>\n",
       "      <td>https://supportforums.cisco.com/discussion/123...</td>\n",
       "      <td>3</td>\n",
       "      <td>3</td>\n",
       "      <td>3</td>\n",
       "      <td>3</td>\n",
       "      <td>3</td>\n",
       "      <td>x</td>\n",
       "    </tr>\n",
       "  </tbody>\n",
       "</table>\n",
       "</div>"
      ],
      "text/plain": [
       "   created                                      original_post  \\\n",
       "0     2015  need help set up qo voip between two asa 5505 ...   \n",
       "1     2015  anyway get asa asa site site vpn besid interes...   \n",
       "2     2015  commun get stuck in sitetosit vpn configur bet...   \n",
       "3     2015  possibl make encrypt without buyingipsec vpn s...   \n",
       "4     2015  pix 515e sa get output vpn found one connect t...   \n",
       "\n",
       "                                               title  \\\n",
       "0                   VoIP QoS for Site-to-Site Tunnel   \n",
       "1  ASA Site to Site VPN (only comes up with inter...   \n",
       "2  IPsec VPN site-to-site between ASA and Cisco R...   \n",
       "3                           7600 and 6500 Series VPN   \n",
       "4                                 show crypto isakmp   \n",
       "\n",
       "                                                 url  8CAT  7CAT  6CAT  5CAT  \\\n",
       "0  https://supportforums.cisco.com/discussion/123...     6     6     6     3   \n",
       "1  https://supportforums.cisco.com/discussion/123...     6     6     6     3   \n",
       "2  https://supportforums.cisco.com/discussion/123...     0     1     1     0   \n",
       "3  https://supportforums.cisco.com/discussion/123...     3     3     3     3   \n",
       "4  https://supportforums.cisco.com/discussion/123...     3     3     3     3   \n",
       "\n",
       "   4CAT org data  \n",
       "0     3        x  \n",
       "1     3        x  \n",
       "2     1        x  \n",
       "3     3        x  \n",
       "4     3        x  "
      ]
     },
     "execution_count": 73,
     "metadata": {},
     "output_type": "execute_result"
    }
   ],
   "source": [
    "df[:5]"
   ]
  },
  {
   "cell_type": "code",
   "execution_count": 74,
   "metadata": {},
   "outputs": [
    {
     "name": "stdout",
     "output_type": "stream",
     "text": [
      "0      need help set up qo voip between two asa 5505 ...\n",
      "1      anyway get asa asa site site vpn besid interes...\n",
      "2      commun get stuck in sitetosit vpn configur bet...\n",
      "3      possibl make encrypt without buyingipsec vpn s...\n",
      "4      pix 515e sa get output vpn found one connect t...\n",
      "5      current asa5500ssl25 licens instal asa 5520 wa...\n",
      "6      morn friend asa 5512 run ipsec vpn tunnel thir...\n",
      "7      im configur remot access vpnwith ldap see in e...\n",
      "8      guy current use asa 5505 baselicens known defa...\n",
      "9      need chang url anyconnect client connect look ...\n",
      "10      configur remot vpn use 5505 asa unabl connect...\n",
      "11     asa5520k8 firewal intern custom connect given ...\n",
      "12     need put certif prsm virtual applianc work out...\n",
      "13     compani usersus anyconnect 31 want prompt bann...\n",
      "14     one custom follow question asa 5510 implement ...\n",
      "15     design new dual clouddual hubdmvpnnetwork spok...\n",
      "16     interest problem drive crazi whole day asa 550...\n",
      "17     imac run os x yosemit 10101 permiss instal any...\n",
      "18     search hour look ton answer ca nt seem get wor...\n",
      "19     situat ubuntu test laptop run dhcp server need...\n",
      "20     want find mani client connect anyconnect ssl v...\n",
      "21     everyon problem site site vpn between two rout...\n",
      "22     let first say thank read post goal creat dynam...\n",
      "23     in process move old ipsec vpn anyconnect vpn w...\n",
      "24     tri set up getvpn router connect one interfac ...\n",
      "25     compani current test out dual factor authent s...\n",
      "26     attach full configur router addit configur inc...\n",
      "27     custom bookmark intranet within clientless vpn...\n",
      "28     enabl alwayson vpn asa 5540 like vpn client ab...\n",
      "29     dear brother realli need kindli help site2sit ...\n",
      "                             ...                        \n",
      "638    everyon built flex vpn in compani suggest devi...\n",
      "639    asa 5525 firewal run anyconnect vpn three site...\n",
      "640    set up tunnel bewteen two 887 across internet ...\n",
      "641    expert anyon send link configur remoteaccess v...\n",
      "642    guy 3900 router current dmvpn router act hub c...\n",
      "643      anyon know tell differ between dynam static map\n",
      "644    use asa 5512x run 93 3 anyconnect vpn configur...\n",
      "645    normal nonvpn pointtopoint link between 2x asa...\n",
      "646    expert tri disabl remot access vpn in asa asa ...\n",
      "647    dear configur anyconnect asa work fine manag a...\n",
      "648    multipl 70 site site exact lan 1921682024 site...\n",
      "649    1 asa 5525 scenario current user authent use a...\n",
      "650    friend face big problem establish tunnel betwe...\n",
      "651    done fair amount search found similar issu exa...\n",
      "652    hey upgrad anyconnect vpn version 42030013 eve...\n",
      "653    tri creat tunnel abl get ospf neighbor peer gr...\n",
      "654    form site site vpn site site b 1921681024 1001...\n",
      "655    asapng current asaa center b connect ipsec vpn...\n",
      "656    configur dap maco user author access valid dom...\n",
      "657    new ccw want know order asa5516 anyconnect plu...\n",
      "658    guy configur ipsec sitetosit vpnon follow topo...\n",
      "659    best configur second vpn tunnel altern carrier...\n",
      "660    stuck problem anyconnect organis domain exampl...\n",
      "661    battl today bring up tunnel between 2 asa 5506...\n",
      "662    could someon pleas explain one would configur ...\n",
      "663    vpn anyconnect instal person laptop work remot...\n",
      "664    anyon pleas provid guidelin configur step depl...\n",
      "665    everybodi quick question guy md5sha use share ...\n",
      "666    dear team consid setup ipsec site site vpn bet...\n",
      "667    2 queri kindli assist 1 ipsec remot client vpn...\n",
      "Name: original_post, Length: 668, dtype: object\n"
     ]
    }
   ],
   "source": [
    "print(df['original_post'])"
   ]
  },
  {
   "cell_type": "code",
   "execution_count": 83,
   "metadata": {},
   "outputs": [],
   "source": [
    "df['tokenized_text'] = df['original_post'].apply(word_tokenize)\n"
   ]
  },
  {
   "cell_type": "code",
   "execution_count": 84,
   "metadata": {},
   "outputs": [
    {
     "name": "stdout",
     "output_type": "stream",
     "text": [
      "0      [need, help, set, up, qo, voip, between, two, ...\n",
      "1      [anyway, get, asa, asa, site, site, vpn, besid...\n",
      "2      [commun, get, stuck, in, sitetosit, vpn, confi...\n",
      "3      [possibl, make, encrypt, without, buyingipsec,...\n",
      "4      [pix, 515e, sa, get, output, vpn, found, one, ...\n",
      "5      [current, asa5500ssl25, licens, instal, asa, 5...\n",
      "6      [morn, friend, asa, 5512, run, ipsec, vpn, tun...\n",
      "7      [im, configur, remot, access, vpnwith, ldap, s...\n",
      "8      [guy, current, use, asa, 5505, baselicens, kno...\n",
      "9      [need, chang, url, anyconnect, client, connect...\n",
      "10     [configur, remot, vpn, use, 5505, asa, unabl, ...\n",
      "11     [asa5520k8, firewal, intern, custom, connect, ...\n",
      "12     [need, put, certif, prsm, virtual, applianc, w...\n",
      "13     [compani, usersus, anyconnect, 31, want, promp...\n",
      "14     [one, custom, follow, question, asa, 5510, imp...\n",
      "15     [design, new, dual, clouddual, hubdmvpnnetwork...\n",
      "16     [interest, problem, drive, crazi, whole, day, ...\n",
      "17     [imac, run, os, x, yosemit, 10101, permiss, in...\n",
      "18     [search, hour, look, ton, answer, ca, nt, seem...\n",
      "19     [situat, ubuntu, test, laptop, run, dhcp, serv...\n",
      "20     [want, find, mani, client, connect, anyconnect...\n",
      "21     [everyon, problem, site, site, vpn, between, t...\n",
      "22     [let, first, say, thank, read, post, goal, cre...\n",
      "23     [in, process, move, old, ipsec, vpn, anyconnec...\n",
      "24     [tri, set, up, getvpn, router, connect, one, i...\n",
      "25     [compani, current, test, out, dual, factor, au...\n",
      "26     [attach, full, configur, router, addit, config...\n",
      "27     [custom, bookmark, intranet, within, clientles...\n",
      "28     [enabl, alwayson, vpn, asa, 5540, like, vpn, c...\n",
      "29     [dear, brother, realli, need, kindli, help, si...\n",
      "                             ...                        \n",
      "638    [everyon, built, flex, vpn, in, compani, sugge...\n",
      "639    [asa, 5525, firewal, run, anyconnect, vpn, thr...\n",
      "640    [set, up, tunnel, bewteen, two, 887, across, i...\n",
      "641    [expert, anyon, send, link, configur, remoteac...\n",
      "642    [guy, 3900, router, current, dmvpn, router, ac...\n",
      "643    [anyon, know, tell, differ, between, dynam, st...\n",
      "644    [use, asa, 5512x, run, 93, 3, anyconnect, vpn,...\n",
      "645    [normal, nonvpn, pointtopoint, link, between, ...\n",
      "646    [expert, tri, disabl, remot, access, vpn, in, ...\n",
      "647    [dear, configur, anyconnect, asa, work, fine, ...\n",
      "648    [multipl, 70, site, site, exact, lan, 19216820...\n",
      "649    [1, asa, 5525, scenario, current, user, authen...\n",
      "650    [friend, face, big, problem, establish, tunnel...\n",
      "651    [done, fair, amount, search, found, similar, i...\n",
      "652    [hey, upgrad, anyconnect, vpn, version, 420300...\n",
      "653    [tri, creat, tunnel, abl, get, ospf, neighbor,...\n",
      "654    [form, site, site, vpn, site, site, b, 1921681...\n",
      "655    [asapng, current, asaa, center, b, connect, ip...\n",
      "656    [configur, dap, maco, user, author, access, va...\n",
      "657    [new, ccw, want, know, order, asa5516, anyconn...\n",
      "658    [guy, configur, ipsec, sitetosit, vpnon, follo...\n",
      "659    [best, configur, second, vpn, tunnel, altern, ...\n",
      "660    [stuck, problem, anyconnect, organis, domain, ...\n",
      "661    [battl, today, bring, up, tunnel, between, 2, ...\n",
      "662    [could, someon, pleas, explain, one, would, co...\n",
      "663    [vpn, anyconnect, instal, person, laptop, work...\n",
      "664    [anyon, pleas, provid, guidelin, configur, ste...\n",
      "665    [everybodi, quick, question, guy, md5sha, use,...\n",
      "666    [dear, team, consid, setup, ipsec, site, site,...\n",
      "667    [2, queri, kindli, assist, 1, ipsec, remot, cl...\n",
      "Name: tokenized_text, Length: 668, dtype: object\n"
     ]
    }
   ],
   "source": [
    "print(df['tokenized_text'])"
   ]
  },
  {
   "cell_type": "code",
   "execution_count": null,
   "metadata": {},
   "outputs": [],
   "source": []
  },
  {
   "cell_type": "code",
   "execution_count": null,
   "metadata": {},
   "outputs": [],
   "source": []
  },
  {
   "cell_type": "code",
   "execution_count": 104,
   "metadata": {},
   "outputs": [],
   "source": [
    "#Word2Vec model\n",
    "\n",
    "model = Word2Vec(df['tokenized_text'], min_count=2)\n"
   ]
  },
  {
   "cell_type": "code",
   "execution_count": 105,
   "metadata": {},
   "outputs": [
    {
     "name": "stdout",
     "output_type": "stream",
     "text": [
      "0.759095864086\n"
     ]
    }
   ],
   "source": [
    "print(model.wv.similarity('tunnel','down'))"
   ]
  },
  {
   "cell_type": "code",
   "execution_count": 106,
   "metadata": {},
   "outputs": [
    {
     "data": {
      "text/plain": [
       "array([ -3.63413602e-01,   1.02750683e+00,  -5.86830556e-01,\n",
       "         3.54029268e-01,  -6.93781018e-01,  -1.04216719e-03,\n",
       "         1.02437389e+00,  -1.72452831e+00,  -2.43521318e-01,\n",
       "         1.45739898e-01,   1.01673996e+00,   5.12951136e-01,\n",
       "        -1.29549479e+00,  -1.21216238e-01,   5.08244634e-01,\n",
       "         1.64397880e-01,   1.57841802e-01,   7.00995505e-01,\n",
       "         3.73286515e-01,  -2.43224144e-01,  -9.73171890e-01,\n",
       "        -1.81672722e-01,   5.63229918e-01,  -9.96042937e-02,\n",
       "        -3.23609531e-01,   2.01989576e-01,   6.11471869e-02,\n",
       "        -3.10007781e-01,   1.99044853e-01,  -1.66480899e-01,\n",
       "         2.91231930e-01,  -1.95664215e+00,   5.12230396e-01,\n",
       "         5.06824732e-01,  -4.11928713e-01,   1.15273833e+00,\n",
       "         3.40249598e-01,  -1.24104202e+00,  -7.94023454e-01,\n",
       "         1.22184739e-01,  -1.53953120e-01,  -5.52002490e-01,\n",
       "        -3.00618857e-01,  -4.18281883e-01,   2.78885275e-01,\n",
       "        -3.10362071e-01,  -1.04675904e-01,  -7.35398233e-02,\n",
       "        -6.50349725e-03,   2.19145194e-01,   7.19107568e-01,\n",
       "         7.05219880e-02,  -5.61652362e-01,  -1.27427673e+00,\n",
       "        -9.92561221e-01,   3.69954586e-01,  -3.15306962e-01,\n",
       "         6.61761463e-02,  -9.39128339e-01,  -7.33143151e-01,\n",
       "        -6.15272760e-01,   1.34894109e+00,  -3.83060813e-01,\n",
       "        -4.36089993e-01,   3.44050042e-02,  -3.35580595e-02,\n",
       "        -9.29775089e-02,   9.41431999e-01,  -1.44407526e-01,\n",
       "        -4.99379486e-01,   1.92520440e-01,   1.95750430e-01,\n",
       "         4.79473889e-01,  -9.48072493e-01,   1.77410275e-01,\n",
       "        -5.91258347e-01,  -2.17428833e-01,  -5.19834340e-01,\n",
       "         5.99385500e-01,   1.16487110e+00,  -4.52669919e-01,\n",
       "         8.74919832e-01,  -4.09141690e-01,  -4.54721361e-01,\n",
       "         4.46254432e-01,   4.35768962e-01,  -1.48319089e+00,\n",
       "        -5.68223536e-01,   6.61561072e-01,   3.05855781e-01,\n",
       "        -5.40081561e-01,  -7.14996517e-01,   7.81715289e-02,\n",
       "         1.68227881e-01,  -3.34600359e-01,   9.73542273e-01,\n",
       "        -3.09530556e-01,  -2.67517179e-01,  -4.13243845e-02,\n",
       "        -1.86356500e-01], dtype=float32)"
      ]
     },
     "execution_count": 106,
     "metadata": {},
     "output_type": "execute_result"
    }
   ],
   "source": [
    "model.wv['tunnel']"
   ]
  },
  {
   "cell_type": "code",
   "execution_count": 96,
   "metadata": {},
   "outputs": [
    {
     "name": "stdout",
     "output_type": "stream",
     "text": [
      "[u'192168721', u'192168720', u'192168723', u'192168722', u'192168725', u'192168724', u'31312f30', u'b9539cf5', u'662318345', u'untrust', u'pixfirewal', u'53305130', u'1001001001', u'reboot', u'four', u'secondli', u'httpsfjern', u'1841', u'sentusernam', u'cisco123', u'0xa75f0671', u'attemp', u'vpn', u'gigabitethernet001', u'01ike4warn', u'whose', u'1921680254', u'\\xe2\\u20ac\\u2039', u'409fa707', u'82010a02', u'000255', u'20898213xx', u'0x645ec368', u'controlplan', u'45', u'192168350', u'69736967', u'pmtu', u'28840894', u'sha256', u'newli', u'spec', u'autosummari', u'digit', u'callin', u'everi', u'awsvpn', u'xxxxxxxxxxxxipsecattribut', u'6e2c2049', u'autoconfigur', u'1001001002', u'p1', u'rec', u'outsidedynmap', u'0b0b8bbc', u'lumia', u'vast', u'092805995', u'aaabbbcccddd', u'objectgroup', u'81cb4455', u'df308201', u'outsidecryptomap8', u'rivestshamiradleman', u'1921681030', u'addressfamili', u'previou', u'protocolobject', u'159877066', u'router2ip', u'affect', u'flag', u'lacapxs5y100', u'loginmessag', u'4ad8954f', u'bill', u'abil', u'clientvpn', u'ldapattributemap', u'tunnel10', u'124232278', u'dialpoolnumb', u'ilmikeepal', u'172259164', u'second', u'192168540', u'nbma', u'even', u'81b5310b', u'105000', u'nem', u'vpnippoolpal', u'null0', u'19216820', u'azurepropos', u'60063e89', u'obj172277301722773255', u'dfltaccesspolici', u'hsrp', u'splitacl', u'16384', u'pin', u'new', u'cryptoisakmpprocessblock', u'ever', u'topolog', u'told', u'unassign', u'elimin', u'subtre', u'grouppolicyasa2', u'servertyp', u'objvpnanyconnectloc', u'esm', u'never', u'remeb', u'pluto', u'650281', u'065ea9a', u'103', u'100', u'101', u'107', u'interpret', u'105', u'teeessyouaccessin', u'73636f61', u'networkobj101010024', u'aug', u'forum', u'standalon', u'k', u'acceptdialin', u'ecdheecdsaaes128sha256', u'samesecuritytraff', u'insideaccessin1', u'jame', u'dynamicasa', u'category0', u'permit', u'2811', u'80112', u'80111', u'head', u'sorri', u'inputifcinsid', u'practis', u'dynclientvpn', u'cpremotevpnsplittunnelacl', u'1002', u'dyn', u'sourc', u'124230767', u'08636973', u'activeact', u'symmetr', u'9d', u'9f', u'brought', u'9x', u'hubpublicip', u'4ad99f42', u'unsur', u'520015', u'61736131', u'keysiz', u'lanoutsid', u'd04e9124', u'unit', u'highli', u'c2ac56c6', u'supportedldapvers', u'17218xx29', u'spoke', u'mapdbfindbest', u'192168121921681254', u'25000', u'asa11', u'localus', u'camerahttp', u'readi', u'program', u'overhead', u'ipsecsess', u'recommend', u'xxxxxxxxyyyyyyyy', u'rf00101lanmd', u'312f302d', u'type', u'contactemailaddr', u'holtvpnacl', u'careonesomersetrestrictog', u'd388dd1e', u'dynl2lasa2', u'portswitch', u'anyconnectpolici', u'firepow', u'relat', u'124231758', u'613686650', u'notic', u'99', u'33997f24', u'export', u'officebip', u'1111public', u'nt', u'aux', u'91', u'90', u'93', u'matchal', u'95', u'94', u'97', u'tx0', u'wialonservicestcp', u'dhersaaes128sha', u'webbrows', u'word', u'ipv6vpnaddrassign', u'custa', u'mm', u'setup', u'work', u'ratelimit', u'mk', u'1722200', u'313a3038', u'050dc53f', u'085111', u'255255255255470', u'ms', u'17225910', u'ipnetconfigmap', u'0255255255', u'root', u'it\\xc2\\xb4', u'nulkvvwggx9heko', u'558', u'0b131656', u'give', u'169965215', u'captiv', u'smtp', u'indic', u'mpe', u'unavail', u'want', u'051205979', u'espaes128shatran', u'051205975', u'clientmap', u'vpnsite1tosite2', u'end', u'category17', u'thing', u'italso', u'wlanguest', u'proposalnotchosen', u'keylength', u'win7', u'05912', u'passwordstorag', u'far', u'dd9169ad', u'enforc', u'1723125512825', u'conn', u'hop', u'answer', u'verifi', u'negoti', u'config', u'pppoe', u'1750', u'snpfpadjac', u'tijamaica', u'lan', u'membership', u'recogn', u'200302816', u'13165665', u'1f060355', u'db303406', u'37181840', u'wlanbss', u'65726973', u'lab', u'1016200', u'diagram', u'wrong', u'c3cf806a', u'01050500', u'lat', u'core', u'port0', u'serialnumb', u'330a17b0', u'serververs', u'112', u'attempt', u'third', u'vpnidletimeout', u'1003', u'credenti', u'greet', u'exclud', u'receiv', u'spanningtre', u'maintain', u'environ', u'1001', u'g18', u'g17', u'xlate', u'1031235', u'1000', u'order', u'rolando', u'atstrafficca', u'ad16c4b9', u'pathmtudiscoveri', u'prodnetwork', u'despit', u'fw1', u'diagnos', u'offici', u'failur', u'957b899b', u'c880datauniversalk9mz1533m4bin', u'vpnaccount', u'filebrows', u'dhgroup14sha1', u'appar', u'ikeqmrqm2', u'tunnel', u'l2tpmap', u'09021608', u'sipprovisionalmedia', u'ifauthent', u'fip', u'paulagahom', u'093147809', u'46080003600', u'0f060355', u'fix', u'hashi', u'h225', u'labasa5525x', u'wlanbss1', u'forwardprotocol', u'ccpinvalidsrc', u'46cfe218', u'10531000', u'voip', u'1021000', u'sslvpn', u'hidden', u'8aa90c50', u'1fa41d30', u'easier', u'ccna', u'inbound', u'ikeqmspistarv', u'192168047', u'robertpool', u'hmacsha', u'proce', u'asa5512x', u'safe', u'finish', u'df07fba1', u'networkobj19216860024', u'ikemesgfromipsec', u'75', u'dessha1', u'7320614911', u'xe', u'1010120', u'group', u'vpnnetwork', u'101005', u'vpnframedipaddress', u'2000000', u'certif', u'd054a290', u'1097034', u'smartphon', u'101010024', u'76736c6f', u'17216400', u'localauthent', u'172188310', u'172188311', u'timeout', u'debug', u'went', u'complet', u'side', u'192168600', u'luck', u'0xe11775c5', u'prohibit', u'cmd', u'main1wireless', u'72695369', u'xauthloc', u'httpproxi', u'ethernet04', u'espaes128sha', u'totaiz', u'fwvpn01', u'asdm7221bin', u'vpnuserssplittunnelacl', u'192168420', u'c2ddecbb', u'digicert', u'093237809', u'dvrmediaport', u'puzzl', u'f6cfff02', u'network', u'time50003', u'goe', u'000100011c8a25c3001e653f7028', u'dst', u'01000', u'rx', u'totaizprofil', u'dsp', u'insideoutsid', u'outputstatu', u'01151', u'daniel', u'nic', u'ra', u'1722100', u'1921680024', u'589d756c', u'120737', u'forth', u'twice', u'apr', u'aclinsid', u'onlin', u'4153ed02', u'putti', u'240000', u'ac8d8e6b', u'6e2e636f', u'outside1921682255', u'sourceinterfac', u'rf00201vpnanyconnectwbn', u'situat', u'vpnclientadmin', u'free', u'standard', u'1min', u'obj12121212', u'19216815192168136', u'10471570', u'might', u'82010100', u'c2900c881', u'md5', u'10000255255255000', u'reconfigur', u'csid0x0', u'r1', u'r2', u'ata', u'isr', u'ikermm4', u'atm', u'19216850', u'19216851', u'ikermm1', u'filter', u'bookmark', u'att', u'fastethernet012', u'5da05b30', u'unabl', u'iphon', u'0f003082', u'isa', u'rv042', u'confus', u'5540', u'ise', u'asavpn', u'activestandbi', u'presharedkey', u'rang', u'perfectli', u'asymmetr', u'grouppolicy1', u'aloutside2backoutside2', u'6e20436c', u'ikemmexch', u'hits622', u'restrict', u'instruct', u'alreadi', u'messag', u'7140221136', u'tag0', u'5545', u'172', u'171', u'170', u'runningconfig', u'insidenataddress', u'2055', u'attach', u'86301f06', u'124232834', u'top', u'sometim', u'ccppool', u'524031116', u'2', u'cndvpn', u'200555', u'hardwarebundl', u'john', u'obj5084209140', u'listen', u'ecdhgroup', u'consol', u'093207809', u'105210010', u'ccpprotocolhttp', u'tool', u'vpncryptomap168outacl', u'cryptochecksum', u'took', u'direct', u'flowexport', u'task', u'34a11d0a', u'00500', u'aaaabbbbcccc', u'technic', u'tcp465', u'mask0000', u'192168220', u'untransl', u'125856881', u'125856882', u'syslog', u'provid', u'divert', u'tree', u'125856889', u'project', u'94783de0', u'arriv', u'domena', u'minut', u'bcab2597', u'html', u'16de0c28', u'savpnpool', u'splitinclud', u'3082022b', u'ram', u'mind', u'eventu', u'ikephase1del', u'expect', u'085221', u'sit', u'rat', u'ikephase1complet', u'increment', u'seen', u'seem', u'icmpobject', u'minu', u'maxnodataconn', u'cryptoengine0', u'obj10402240', u'asa9224smpk8bin', u'100630780', u'especi', u'4ded225c', u'cheer', u'i\\xc2\\xb4v', u'c891fw', u'contact', u'i\\xc2\\xb4m', u'denyfals', u'transmit', u'networkobj101020024', u'remoteaccesspool', u'8843', u'8844', u'coreswitch', u'lncblueleafnet', u'blue', u'copi', u'plenti', u'insidein', u'usernam', u'object', u'routerpublicip', u'0d323030', u'0kb', u'est5', u'051205763', u'prib382', u'190xxx', u'159876430', u'phase', u'12019', u'macbook', u'apex', u'encipher', u'broadcast', u'simplic', u'0x00000001', u'special', u'676f2e67', u'5443', u'maje', u'alarm', u'flow', u'0e060355', u'fad1c12d', u'6459128120', u'grouppolicysrhvpn', u'tech', u'espaes192md5tran', u'espdesmd5', u'6e632e31', u'lpd', u'tunnel1', u'outsideaccessin', u'came', u'dou', u'mask2552552550', u'pkt', u'noaccess', u'fvrf', u'opposit', u'flags0x0', u'radiu', u'anyconnectwin3109013k9pkg', u'ikev2map', u'301e170d', u'noxauth', u'messageid', u'5506', u'protocol', u'd5', u'b5cf746c', u'5500', u'f03009f3', u'involv', u'1954c728', u'20898212xx', u'udi', u'acquir', u'2147483574', u'insidenatoutbound', u'menu', u'gtpgpr', u'ethernet1', u'arpa', u'busi', u'05000382', u'30333', u'networkobj1921680024', u'0x00000000', u'folder', u'devweb', u'oct', u'dn', u'serv', u'tracert', u'securityk9', u'payload', u'dh', u'df', u'1010207', u'de', u'stop', u'dc', u'mask2552552240', u'1010202', u'pop3', u'001255', u'amazon', u'pool139', u'192168254119216825410', u'cryptographi', u'0253f9bc', u'15', u'grouppolicyshanghaivpn', u'124236558', u'outside1cryptomap', u'net', u'170d3230', u'vpngrppolici', u'mapnam', u'espaes192', u'55xx', u'bar', u'vti', u'ipsecraadmin', u'isakmpiniti', u'16', u'627352xxx', u'5554', u'101010', u'messagelength', u'reload', u'bad', u'2072012375', u'passwordencrypt', u'anyconnectwin3101065k9pkg', u'iam', u'aes256sha', u'75xx1', u'natezvpnsourc', u'1380', u'anyconnectremot', u'runn', u'respond', u'vpnclientpool', u'mainli', u'inzon', u'spi', u'5525x', u'asa2lan', u'ouasm', u'num', u'serial00', u'result', u'0x46', u'respons', u'fail', u'aes192', u'toolsciscocomitsserviceoddceservicesddceservic', u'grouppolicy96xxxx222', u'best', u'subject', u'02', u'awar', u'00', u'said', u'd1be20d4', u'5465726d', u'04', u'05', u'13cae234', u'irq', u'away', u'tpselfsigned2011286623', u'dvrmobil', u'0x64b2238c', u'ipnetconfig', u'stricthostkeycheck', u'figur', u'companyvpnpolici', u'100141', u'100142', u'100144', u'360', u'attribut', u'accord', u'aescbc', u'a7ada23', u'ring53network', u'extend', u'jose', u'wo', u'1722004', u'dot11b', u'1722001', u'1722000', u'ipv6addresspool', u'extens', u'ezvpngp', u'386', u'12xxxxxx178', u'advertis', u'a3633061', u'aim', u'gigabitethernet18', u'0s', u'protect', u'203103517', u'howev', u'1921684024', u'1921681050', u'userauthen1', u'vpnpool001md', u'asdm743bin', u'83fa8f43', u'exec', u'logic', u'0b506cd8', u'countri', u'login', u'208651440', u'com', u'30673065', u'con', u'suggest', u'ec12ba56', u'tunnelmap', u'applianc', u'e5bb658', u'10471540', u'trunk', u'2nd', u'102', u'asdm741bin', u'81890281', u'172162541', u'af333133', u'evretri', u'path', u'6d2f7270', u'5sec', u'250', u'guid', u'256', u'257', u'interceptdhcp', u'duplic', u'reciev', u'azpbtdc01', u'light', u'frg', u'recur', u'chrome', u'tlsv1', u'3c6e81fd', u'idletim', u'19216843', u'three', u'networkobj19216878024', u'19216840', u'104009', u'plaintext', u'remote2al', u'much', u'104', u'interest', u'basic', u'asa5506', u'104000', u'deb78458', u'seq63173', u'sslclientpolici', u'peerip', u'life', u'geme', u'1721612', u'dhersaaes256sha256', u'1721610', u'ran', u'900', u'telnet', u'gig01', u'accesslist', u'20417574', u'65527', u'perimet', u'child', u'22222222', u'165', u'1730820', u'espaes256md5tran', u'160', u'3destran', u'cisco1921k9', u'ident', u'ipvpn', u'hnic', u'301d0603', u'192168103500', u'servic', u'ikemesgfromp', u'1053074288', u'asa5545x', u'n', u'employ', u'523615787', u'near', u'userealaddr', u'proceed', u'defaultidletimeout', u'networkobj10140148027', u'modul', u'06092a86', u'ff62370d', u'resetinbound', u'801', u'ccppermit', u'fe80', u'401d1dca', u'ip', u'profilenam', u'eigrp', u'ipsecgr', u'iv', u'ii', u'cant', u'101745', u'im', u'20536572', u'conf', u'in', u'\\u2019', u'ie', u'id', u'sever', u'ldapbasedn', u'ssid', u'87216166', u'6d616765', u'dc1', u'hsverifyproxi', u'datetim', u'perform', u'saw', u'make', u'7200', u'header', u'virtualtempl', u'ccpdmvpnisakmprofil', u'pvdmii', u'summertim', u'msgid0', u'split', u'nice', u'30168014', u'2091713491', u'4b475724', u'hitcnt3', u'hitcnt0', u'75757575', u'memberof', u'nocheck', u'vpnuser', u'hand', u'fairli', u'tsjamaica', u'portal', u'weird', u'17060355', u'vpnmap', u'30323037', u'101748', u'01050003', u'17218800', u'5becb37f', u'rekey', u'scenario', u'thx', u'domainnat', u'thu', u'min', u'1025517614', u'1025517615', u'refresh', u'jon', u'domainnam', u'042d302b', u'objremot', u'092808995', u'1921682199', u'30303230', u'0a945cf2', u'campu', u'left', u'translatehit', u'bellow', u'identifi', u'chri', u'flexclientipsecprofil', u'vpnaccesshour', u'd188786c', u'laptop', u'gigabitethernet', u'serverexc', u'mid', u'28503', u'bandwidth', u'observ', u'hotspot', u'xauathtransform', u'804', u'46580', u'outsidecryptomap2', u'30303620', u'previous', u'02555331', u'note', u'eli', u'676f2e76', u'easi', u'timeexceed', u'cminspect2', u'5515', u'espaesmd5', u'cminspect1', u'josh', u'mask', u'anyconnectmacosxi386240202k9pkg', u'idipv4addr', u'espaes256md5', u'ipsecprocesspropos', u'gaddr', u'board', u'endus', u'floatingconn', u'mar', u'save', u'nama20004', u'latest', u'httpdmz', u'tls12', u'sanit', u'applic', u'hide', u'networkobj1921684024', u'advis', u'mayb', u'fortig', u'928225319', u'remote1voic', u'sku', u'newtunnel', u'comediacheckmediasrc', u'2c20496e', u'mytrustpoint', u'transform1', u'proxyvpnpolici', u'5510', u'engineid', u'5512', u'15111', u'ciscowebvpngateway', u'5516', u'logadjacencychang', u'wialonservicesudp', u'051206195', u'58', u'specif', u'0x8aa90c50', u'051206199', u'54', u'any4', u'56', u'3030', u'50', u'53', u'417812', u'any6', u'dhersaaes256sha', u'tcp9000', u'ge13', u'sha96', u'ge11', u'laddr', u'891k9', u'2091231231', u'server10102253', u'surf', u'www', u'right', u'old', u'manual', u'63726c30', u'somehow', u'192168102552552550', u'malaysia', u'intern', u'6fed094a', u'124242566', u'9179136', u'103125512825', u'dear', u'55160969', u'inact', u'52', u'snip', u'wayn', u'total', u'outside1921682255137', u'aclwaninterfac', u'normal', u'302d0603', u'soth', u'userdata0x0', u'l2laccesslist', u'mmsndmsg1', u'5500x', u'ethlan', u'10020', u'24180xx', u'rakesh', u'10021', u'localhost', u'ge12', u'32333539', u'plu', u'1010105', u'1010102', u'obj10100', u'1010100', u'dynmap', u'101935248', u'compress', u'sitesit', u'view', u'splithorizon', u'plz', u'mapvalu', u'speak', u'site17216170', u'43200', u'0x50', u'corp', u'273aeddc', u'test2abccom', u'peer', u'nameif', u'post', u'htpc', u'1941', u'dead', u'125856896', u'outputinterfac', u'protectgr', u'idkeyid', u'req', u'842', u'55', u'slightli', u'ipsecovernatt', u'nama', u'simul', u'cipher', u'inputstatu', u'asa5510', u'lanwangp', u'010f0030', u'disabl', u'anonym', u'reusedelay', u'481d22cd', u'1723012', u'test1', u'sumvpnpolici', u'asa2ip', u'regist', u'float', u'192168400', u'bound', u'192168150', u'down', u'ahp', u'explain', u'30mbp', u'1111myport', u'vlan1', u'vlan2', u'vlan3', u'mbp', u'081440', u'1000024', u'hallo', u'stump', u'1721816202', u'suffici', u'm4', u'homepag', u'support', u'transform', u'senddeletenotifykmi', u'herman', u'avail', u'stuck', u'091726940', u'custcareonelongridg', u'0e041604', u'author', u'way', u'danpub', u'call', u'routelookup', u'constantli', u'sha512', u'interv', u'ksec', u'17231255128', u'obj17227730', u'splittunnelpolici', u'form', u'offer', u'forc', u'1921681080', u'124258738', u'refcount', u'grouppolicy520015', u'wireless', u'82012230', u'heap', u'4609', u'05050030', u'icmp', u'true', u'wialon', u'221', u'124247262', u'echorepli', u'19216870', u'20617420', u'lnblfasa5505', u'10310616910', u'44c1827e', u'supp', u'lapbta', u'maximum', u'mtu', u'updatesourc', u'3111300f', u'getvpn', u'netclock', u'outsidecryptomap', u'sampl', u'\\xe2\\u20ac\\u2122', u'750', u'f3497b62', u'151', u'securitylevel', u'153', u'ring51network', u'155', u'154', u'hits129', u'routecach', u'1721600', u'1721601', u'outsidetelekom', u'ldaplogindn', u'cfb93f58', u'tcp1111', u'sargicisconet', u'vpnsplittunnelacl', u'diagnost', u'networkobj101060026', u'exist', u'linkloc', u'4341202d', u'31303130', u'65535', u'53656c66', u'localtrust', u'check', u'controlin', u'poodl', u'nh', u'encrypt', u'descr', u'10181102', u'na', u'recevi', u'connectionid', u'cyou', u'd9203340', u'1921682500', u'lifedur', u'tim', u'alex', u'523542787', u'role', u'ef829ea3', u'encap', u'samaccountnam', u'test', u'ipid1921681920', u'solv', u'telemetri', u'roll', u'7fd365a7', u'28b38fa0', u'vpnisakmpprofil', u'notif', u'intend', u'id32068', u'objloc', u'center', u'10471400', u'grouppolicyvpntosit', u'721521xxx', u'class', u'intent', u'inputifcani', u'establish', u'ff040403', u'f4b17bfd', u'7d415630', u'entrust', u'natexemptvpn', u'warn', u'longer', u'furthermor', u'28a1ace0', u'anywher', u'mmwaitmsg2', u'intersit', u'srhvpn', u'anyconnectselfsignedcert', u'0x31c17753', u'netremot', u'36000', u'ignor', u'time', u'push', u'inservic', u'5938', u'daili', u'vpntunnel', u'userident', u'osx', u'ring52network', u'prot', u'10518dmilln50qi', u'chain', u'interinterfac', u'20473530', u'ccpsipinspect', u'ethernet103', u'7f9483fb', u'linkdown', u'd937f47a', u'hmacmd5', u'count1', u'dialer0', u'networkobj1921681024', u'kanesr', u'asa9168smpk8bin', u'virtualtemplate10', u'radiusserv', u'bbc', u'asa4113019', u'ikeqmiqm1', u'ezvpntg', u'17301506', u'decid', u'92', u'ver', u'rsakeypair', u'zone', u'd3f58537', u'vpi', u'flash', u'intermedi', u'091726884', u'172171841', u'0', u'tcp7878', u'172306024', u'18012541', u'18301680', u'backgro', u'96', u'node647285005', u'autoconfig', u'0x4e3ca0c5', u'callhom', u'124240670', u'groupauthor', u'made', u'2851', u'localpref', u'05050702', u'05050701', u'0015255', u'3333', u'feasibl', u'1492', u'19216812', u'inputifcoutsid', u'10200', u'5min', u'9df3cc53', u'rf00401lanvi', u'xxxxxxxxxx', u'86400', u'exact', u'1598730251', u'1598730252', u'1071792', u'initialcontact', u'administr', u'inventori', u'outside5cryptomap', u'00030', u'gui', u'serverpublicaddr', u'outisd', u'p', u'hidekey', u'english', u'team', u'cooki', u'124234226', u'guy', u'ouservic', u'03132649', u'1d230418', u'prevent', u'insidenat0outbound', u'12dc744a', u'trustpoint', u'20194151142', u'desir', u'everyon', u'tpselfsign', u'os', u'20194151141', u'101010253', u'sign', u'everytim', u'addrmaskprotport', u'group1', u'69666963', u'isakmpprofil', u'asa01', u'302e3134', u'port', u'bold', u'5512x', u'cisco2600', u'appear', u'10100143', u'mt', u'repli', u'anyconnectessenti', u'1010101', u'0355040a', u'924420306', u'routingsplit', u'0355040b', u'current', u'upidl', u'17218830', u'ff040530', u'suspect', u'bgpr1', u'channel', u'leas', u'tplink', u'thirdparti', u'terminallin', u'1234', u'sdmesp', u'afterward', u'pvc', u'encryption3desa', u'gener', u'v', u'unauthor', u'20122958242255255255255171701', u'4a546ac9', u'a0030201', u'address', u'acisco', u'locat', u'along', u'091734072', u'55533117', u'wait', u'box', u'6509', u'grouppolicy1771548334', u'asa7715080', u'checksum', u'sdmeasyvpnservertraff', u'outsideaccess', u'jori', u'queue', u'groupobject', u'4d504b49', u'0x3b4731d7', u'extrem', u'seq1', u'seq0', u'group2', u'03550403', u'overrid', u'aspath', u'regardless', u'101935230', u'extra', u'pentium', u'd13309864c08db0e', u'2089212xx', u'prefer', u'complz', u'mmnostat', u'visibl', u'instal', u'mobil', u'kind', u'vpnportaltp', u'regex', u'4bd1a3f7', u'3cfa6d7f', u'0x800', u'1d200469', u'memori', u'71b350be', u'ca1', u'univers', u'visit', u'everybodi', u'19216800', u'pmtuag', u'criteria', u'msg', u'gdoi', u'thru', u'ikedestsa', u'today', u'192168162', u'dc2', u'outside8cryptomap', u'87216165', u'name', u'3a2f2f63', u'peopl', u'sqlnet', u'colprivateasa', u'1111110', u'enhanc', u'ethernet101', u'main1data', u'templat', u'examin', u'0x45047d1d', u'51200', u'02301e1a', u'easiest', u'uturn', u'mgcppat', u'tcp5938', u'1921681070', u'551d0e04', u'esp3d', u'servergroup', u'cap', u'uniqu', u'connectionprofil', u'ethernet104', u'inside2', u'74696f6e', u'whatev', u'renew', u'purpos', u'551d1301', u'local', u'995', u'551d2304', u'encapsul', u'5064', u'mask010000000000', u'workvpnsplittunnelacl1', u'serviceobject', u'3130312f', u'c33mhset', u'usg', u'topic', u'heard', u'crazi', u'abort', u'sdmnatuserprotocol', u'192168500', u'presetdnsmap', u'mailserverdmz', u'unfortun', u'yet', u'occur', u'192168102', u'asa5505sw1050', u'ramesh', u'203021420', u'multipl', u'19216860', u'cryptoisaipseckeycr', u'memorys', u's2', u'xxx127', u'5062', u'ping', u'remoteproxi', u'uptim', u'101917', u'till', u'purg', u'ea9f64c5', u'nyc', u'100050', u'cryptoengin', u'10471490', u'outsideinterfac', u'macosxi386252014k9pkg', u'map', u'product', u'255255255128', u'category4', u'1604140d', u'vpndan', u'may', u'max', u'tunnel0', u'prefrag', u'localnatednetwork', u'noc1', u'noc2', u'socket', u'1721710', u'1157922077', u'date', u'192168210', u'c61f381e', u'r2t', u'data', u'19216850x', u'goal', u'dvrweb', u'insideout', u'alinside2tooutside2', u'remotevpn', u'ss', u'indlan', u'eng', u'sw', u'19216819025000', u'refcnt', u'q', u'inform', u'switch', u'sh', u'combin', u'dynamicmap', u'commandsopt', u'csd', u'rf00301lanfra', u'classmapvpn', u'sa', u'openswan', u'sg', u'talk', u'outputlinestatu', u'saconnid', u'evstarttmr', u'tunnel2', u'crymap1', u'0500302c', u'2552552520', u'approv', u'asa3713902', u'10239201', u'remotevpnsplittunnelacl', u'increas', u'tti', u'948610ca', u'equip', u'still', u'pointer', u'dynam', u'ldapnamingattribut', u'disconnect', u'monitor', u'insidehost', u'allvrflocalpref80', u'jim', u'30030101', u'webvpnpolici', u'window', u'1921682205', u'c831', u'outside2backoutside2', u'mail', u'931', u'main', u'remote1data', u'meridian', u'138246', u'ideal', u'fcatimeout', u'non', u'cyberoam', u'1024464', u'1024465', u'vlanif1', u'remote1al', u'rf00201lanwbn', u'shvyk0jtjpanqt', u'aal5mux', u'1921682024', u'initi', u'192168401', u'site382831', u'aes128sha1', u'1921681871', u'half', u'nov', u'tcp587', u'discuss', u'84', u'wont', u'asa55x0', u'term', u'mcafe', u'workintern', u'pmoutsidetoinsid', u'subscript', u'revers', u'revert', u'separ', u'ppp', u'junip', u'825', u'anymor', u'63757265', u'10102254', u'85', u'172285137', u'everyth', u'05050730', u'defaultragroup', u'len72', u'replac', u'eg', u'mktosg', u'continu', u'ec', u'dialer', u'1598730243', u'keypair', u'replay', u'l2tpvpnpool', u'ex', u'1598730245', u'year', u'3306', u'okay', u'happen', u'002515', u'eq', u'snpfpfragment', u'mandatoryr', u'subnet', u'shown', u'accomplish', u'local7debug', u'2500', u'3rd', u'space', u'73613082', u'asaasdm', u'256mb', u'vlan5', u'profil', u'170d3135', u'insidenetwork', u'tokencod', u'mbsec', u'internet', u'100byte', u'sctp', u'aes256sha256', u'hcm', u'mmkeyexch', u'1921681060', u'109400', u'srvpndonott', u'selfsign', u'wan', u'migrat', u'mowemap', u'attributemap', u'20151222', u'deletedelet', u'byte', u'e0', u'card', u'care', u'partner', u'uauth', u'00200', u'hstransportwinhttpverifycerthashcheck', u'frequenc', u'insert', u'synchron', u'20160520', u'73206f66', u'1891573546', u'punt', u'place', u'qo', u'internetout', u'standbi', u'router', u'512', u'880', u'think', u'frequent', u'first', u'oper', u'8ry2yjiyt7rrxu24', u'wlan', u'xo', u'directli', u'ip4dupaddr', u'ccph323nxginspect', u'rtsp', u'voic', u'one', u'ldapscop', u'xx', u'ahshahmac', u'spoker', u'fast', u'spanish', u'oppos', u'mac000000000000', u'xp', u'ippool', u'open', u'30353036', u'size', u'76657269', u'gig', u'given', u'ipofficea', u'workaround', u'm1', u'teardown', u'5506x', u'priority13', u'a0258623', u'assort', u'defaultl2lgroup', u'hostscan', u'1921682015', u'bbbcccdddeee', u'1k', u'172161100', u'friend', u'mop', u'02010630', u'hub', u'that', u'obj19216810', u'public', u'120659', u'051205511', u'specifi', u'salifetim', u'0101ff04', u'38303030', u'netmask', u'rc4md5', u'splittunnel', u'mostli', u'webvpnattribut', u'threatdetect', u'ge1outsid', u'ihav', u'007255', u'11', u'10', u'13', u'12', u'647285005', u'14', u'17', u'133901', u'19', u'776f726b', u'ciscocpvpngroupml2', u'sslgroup', u'10215200', u'r', u'balanc', u'defaultdn', u'icmppolici', u'nuisanc', u'fallov', u'sessionid', u'browser', u'pre', u'fc1', u'renc', u'fc3', u'192168170', u'encr', u'duid', u'filer', u'1921682550', u'14400', u'snpfptranslat', u'192168179', u'100000', u'say', u'properli', u'tableid', u'objanyconnect', u'networkobj10140148024', u'transportudp', u'1', u'ikeinitqm', u'trust', u'd448182c', u'sat', u'1021264821', u'inside1921682015', u'engin', u'tunnelal', u'advic', u'ikermm5', u'207xxx', u'secondari', u'labs2svpn', u'0x7f72986867d0', u'transportmethod', u'024959767', u'wyzvpncomdata', u'3dessha', u'9c688b2e', u'144xx25', u'take', u'1921681790', u'maxus', u'6973636f', u'onlink', u'obj101400', u'wonder', u'lanintern', u'noth', u'snpfpinspecticmp', u'201', u'200', u'begin', u'printer', u'trace', u'easyconnect', u'buffer', u'price', u'enter', u'dminlinetcp1', u'asafw', u'20024722953255255255255170', u'dminlinetcp2', u'kmi', u'employe', u'tpselfsigned1151531093', u'192168510', u'ethernet', u'pair', u'mz6jxjibsqqvsw9', u'america', u'pager', u'misconfigur', u'correctli', u'dmvpn', u'3029a027', u'sslclientprofil', u'diffiehellman', u'drive', u'icmp6', u'bpvpn', u'aes128', u'oldcor', u'runtim', u'management00', u'10471410', u'vpncryptomap', u'mgcp', u'308205ec', u'10471480', u'ge2', u'friend\\xc2\\xb4', u'cryptoisaikedecrypt', u'ddc30cd9', u'61311730', u'show', u'mess', u'zonememb', u'atom', u'404167d1', u'hairpin', u'kabelplusmodem', u'remote1', u'ikev2list', u'vpn3desa', u'concurr', u'shvdc01', u'keyword', u'permiss', u'ccpdmvpnkeyr', u'aclserv', u'866d8705', u'192168201', u'0122300d', u'line', u'moweset', u'xml', u'192168199', u'1015711', u'185338', u'esp3dessha', u'activ', u'17216240', u'short', u'pptp', u'acceslist', u'non500isakmp', u'dwm2000wmstateazu', u'1010209', u'xmt', u'ethernet100', u'101400', u'ethernet102', u'ethernet105', u'ccppptp', u'ethernet107', u'ethernet106', u'remotea', u'reset', u'642312593', u'fileentri', u'5061', u'5060', u'5063', u'd4af4e10', u'094245', u'093248913', u'fc', u'soon', u'1011100', u'remotep', u'19216820x', u'state', u'384efa0f', u'17217xx', u'securecrt', u'requir', u'attr', u'ciscocpikeprofile1', u'consist', u'stopbit', u'339968', u'17316335105', u'multi', u'yield', u'1721620', u'ipid0000', u'toclient', u'flexclientprofil', u'outsideaccessin1', u'defaultragroup2', u'privileg', u'923', u'8f6724e8', u'summari', u'userprotocol', u'xxxxxxxxxxx', u'wyzvpncom', u'igortw', u'delnod', u'espa', u'classdefault', u'espd', u'1f301d06', u'255255255240', u'seat', u'gns3', u'03010001', u'myca', u'1063002552552550', u'reserv', u'17222220', u'sport', u'concern', u'infinit', u'vpdngroup', u'831', u'8888', u'835', u'1020017', u'1d0f0101', u'id19752', u'8880', u'ipsecisakmp', u'naisusloc', u'3', u'antiviru', u'digest', u'between', u'wwwciscocomcenussupportdocssecurityasa5500xseriesnex', u'import', u'sdcbeheer', u'siteb', u'across', u'sitea', u'68747470', u'50001', u'comp', u'screen', u'defaultinform', u'pbrlookup', u'74652d31', u'didn\\xc2\\xb4t', u'5585', u'spare', u'policyrout', u'aescbc256', u'espaes192md5', u'10220', u'10222', u'cli', u'sdmah', u'interact', u'20000', u'302013', u'domainlookup', u'site2', u'serial000', u'contract', u'site1', u'10210', u'ecdheecdsaaes256gcmsha384', u'tutori', u'tout', u'192168116254', u'07020116', u'demux', u'mani', u'rvsvpn', u'asa91', u'sdmcmap1', u'vrf', u'asa5505bunk9', u'acceler', u'hubexternalvrf', u'inputlinestatu', u'voicecard', u'70636133', u'9000', u'ring54network', u'period', u'dispatch', u'vpnpb', u'secrettestkey', u'61', u'152', u'anti', u'3000', u'66', u'doesnot', u'69', u'1921683010', u'sendcommun', u'better', u'ultim', u'636f6173', u'coupl', u'ikeimm4', u'come', u'69676e2e', u'hsec', u'offic', u'layer', u'mark', u'0x01000022', u'internetmap0', u'1032', u'activationcharact', u'addit', u'893966165', u'softreconfigur', u'1212', u'1210', u'inspectiondefault', u'6e', u'30000', u'1000254', u'19216830100', u'decrypt', u'resolut', u'fbe198e6', u'peerport', u'01861868', u'tunnel3300', u'124300626', u'asa5512', u'excludedaddress', u'keepinstal', u'676e2054', u'1979798297', u'301f0603', u'20', u'pca', u'hdr', u'lineproto5updown', u'73203320', u'1011x', u'esp3desshatran', u'incomplet', u'trick', u'23003', u'invok', u'dhcpv6', u'asa5515', u'1452', u'snmpserver', u'00100', u'region', u'69676e20', u'1c687474', u'19216819949', u'voicenetwork', u'advantag', u'serial001', u'ge3insid', u'firepass', u'henc', u'destin', u'blah', u'2f777777', u'dynamicpool', u'20466f72', u'domaincom', u'pap', u'addr', u'133916', u'isakamp', u'twofactor', u'xxxxxxxxxxxxxxx', u'media', u'5505', u'node725923158', u'l2tpvpnsubnet', u'accessclass', u'fragment', u'14316cc0', u'aaaserv', u'advipservic', u'826910202', u'userinterfac', u'1051332', u'5369676e', u'asdm731101bin', u'82114179120', u'webserv', u'io', u'ye', u'assist', u'accessgroup', u'someon', u'decompress', u'10193577', u'capabl', u'watchguard', u'openldap', u'1b311930', u'extern', u'anyconnectclientprofil', u'172259170', u'ipaddress', u'192168165x', u'retransmiss', u'appropri', u'8080', u'8081', u'errorrecoveri', u'1921681253', u'1921681252', u'ccw', u'1921681250', u'04030201', u'remain', u'know', u'1921681254', u'6e6f9b57', u'clientpublicaddr', u'remotewiesbaden', u'gain', u'26302406', u'dnsguard', u'modem', u'224000', u'asa6113009', u'ikereadi', u'comment', u'10181101', u'212', u'1111500', u'pminsidetooutsid', u'servicetyp', u'nd', u'nonatin', u'1921686200', u'rest', u'bitmap', u'ciscoasa', u'ldapserv', u'urllist', u'5078e845', u'106123101', u'radiuscommonpw', u'gdn', u'379bea0', u'death', u'europ', u'struct', u'1000100', u'093157809', u'asa5505secpl', u'littl', u'desktop', u'207177xx', u'143216307', u'mpl', u'4', u'versa', u'vulner', u'invalidspirecoveri', u'56250', u'real', u'psk', u'vdsl', u'ikeqmphase2complet', u'around', u'choic', u'read', u'22c6df16', u'alredi', u'test1abccom', u'41217203234', u'reassembl', u'1012121', u'traffic', u'baltimor', u'55040313', u'grouppolicy0000', u'world', u'ipsec', u'anyconnectpool', u'95138147118', u'espaes256sha', u'124252466', u'saniti', u'60', u'6399', u'intel', u'fe93cf67', u'patrick', u'vpnremot', u'1921681200', u'106900', u'unlimit', u'12121212', u'2397', u'l2tptransformset', u'espmd5hmac', u'updat', u'qnap', u'tunnelgroup', u'a1e697c1', u'73', u'manag', u'f40163d8', u'8', u'yyyi', u'node', u'pleas', u'73702e76', u'cisco12345', u'asa2', u'asa1', u'ccph323annexeinspect', u'mgre', u'2552552540', u'l', u'yyyx', u'handshak', u'e02f6d968dd0', u'09e4187b', u'200022', u'telekom', u'030101ff', u'0x285f5fbc', u'noob', u'anyconnectwin3104066k9pkg', u'093227809', u'userathen', u'toth', u'definit', u'token', u'webmanag', u'protocol0', u'vpncryptomap168acl', u'exit', u'101300', u'networkobj172162024', u'7c568245', u'rateinterv', u'amazontransformset', u'916', u'complic', u'refer', u'xxxx20', u'asav', u'1921682000', u'1yr', u'compris', u'power', u'1598730136', u'svcenabl', u'2c', u'255255255255', u'255255255254', u'ipsecl2l', u'sbservice80', u'asac', u'asab', u'starttim', u'fulli', u'microcod', u'appli', u'20100', u'17216235', u'6e65642d', u'src', u'dpdruther', u'central', u'greatli', u'9cbaf6c1', u'ipvpnmap', u'1020000', u'bundlenam', u'acm', u'acl', u'must', u'neighbor', u'act', u'win10', u'clientgroup', u'bccgroup', u'mean', u'backup', u'other', u'remotekevinsplittunnelacl', u'client', u'83625630', u'outsidemap0', u'consid', u'vpnfilter', u'workvpn2016', u'asa1vpn', u'10xxi', u'localaddress', u'02030100', u'sslacl', u'vpnintlfcston', u'100002552552550', u'connectionspecif', u'remotelan', u'1722763133', u'10xxx', u'0ffe5381', u'192168168231', u'weight', u'log', u'17216308', u'area', u'globalclass', u'setrout', u'10000', u'aes256shatransport', u'hex', u'hey', u'lol', u'rc4sha', u'3945', u'rsig', u'interfac', u'ipv4', u'lot', u'ipv6', u'01010105', u'policymap', u'eyfqxw7ure8qrz7', u'bought', u'epadescrypt', u'03000', u'id11842', u'woudl', u'enough', u'10001', u'vpnprofilemp', u'bundl', u'regard', u'pitcher', u'480cff64', u'jul', u'idea', u'093136793', u'53f41daa', u'3072', u'1d20ab25', u'networkobj19216854024', u'6c2527b9', u'portobject', u'2957', u'with', u'eb4073f6', u'pull', u'42839b8f', u'possibl', u'default', u'0x47d305bc', u'1800', u'1028', u'snpfpinspectipopt', u'xxxxxxx', u'tcpintercept', u'1cb5a6d0', u'ikev2propos', u'500', u'4cfecef4', u'embed', u'0b133128', u'dmvpn01', u'connect', u'cbb', u'gone', u'ac', u'ae', u'ad', u'creat', u'certain', u'forgot', u'2552552550', u'al', u'fsm', u'priority1', u'19216810024', u'lnclocaltxnet', u'ar', u'aw', u'av', u'connid', u'adsm', u'hw2', u'fill', u'hit', u'virtualtemplate1', u'googl', u'tcp3306', u'2003', u'ctcp', u'personnel', u'loadinterv', u'keyexchang', u'2000', u'mmsasetup', u'1111', u'field', u'1112', u'1115', u'50003', u'pppoeclient', u'amact', u'sdmgre', u'rx0', u'bf04014e', u'04160414', u'architectur', u'4096', u'outside21cryptomap', u'upgr', u'sequenc', u'1722584', u'fastethernet3', u'124249414', u'obj24173237212', u'releas', u'track', u'peak', u'vendor02', u'vendor03', u'093247809', u'vendor07', u'pool', u'1224389198', u'backward', u'dathomirasa', u'keypairnam', u'ikev2profil', u'aes256sha1', u'100110', u'warmstart', u'myset', u'10010', u'2b0e0302', u'1723122', u'19216818610', u'reversepath', u'dead725923158', u'id50862', u'ravpn', u'escap', u'roy', u'cpu', u'unset', u'5550', u'48358629', u'objvpn', u'1010030', u'isp1dmvpn', u'00255255', u'outsideinsid', u'customerdomain', u'month', u'correl', u'1921681040', u'prefixlist', u'31453043', u'010a0282', u'follow', u'research', u'010100cc', u'duplex', u'rd', u'5392790b', u'iprofil', u'gigabitethernet1', u'220004', u'trafic', u'17216510', u'watch', u'172301024', u'remotepublicip', u'ts', u'tp', u'articl', u'ciscocpprofile1', u'192168755', u'tl', u'aclezvpn', u'192168750', u'192168751', u'scratch', u'sslvpnpolici', u'tcpudp', u'65028', u'21611300', u'8500085000', u'preshar', u'introduc', u'adapt', u'dminlinenetwork9', u'fax', u'global', u'premium', u'ok', u'straightforward', u'rsasig', u'fals', u'dminlinenetwork1', u'dminlinenetwork2', u'dminlinenetwork3', u'dminlinenetwork4', u'480186f8', u'h8sh8js7dn2jj', u'ibbr', u'util', u'ican', u'gfiserv', u'mechan', u'testkey', u'fall', u'ocsp', u'1723022', u'strang', u'mppe', u'1097033', u'obj0000', u'capout', u'f3uhlvuj1qsxsuk7', u'originisacl', u'pbr', u'010001a3', u'120731', u'1097039', u'switchport', u'espaessha', u't1', u'random', u'dialer1', u'mtuignor', u'aesgcm256', u'asa1t', u'small', u'ellipt', u'fashion', u'5912', u'correct', u'primari', u'016', u'inside1921681024', u'b69a3dca', u'autoinstal', u'194', u'insidemap', u'191', u'190', u'192', u'past', u'robertgp', u'ipsecra', u'fiber', u'design', u'savpn', u'pass', u'nullev', u'offersjust', u'portforward', u'unnumb', u'l2tptransformsetmap', u'sub', u'richard', u'clock', u'sun', u'section', u'21999', u'abl', u'overload', u'18', u'delet', u'23001', u'12060355', u'7d494aca', u'30303030', u'prf', u'method', u'0ec79c', u'alwayson', u'full', u'hash', u'ipicmpecho', u'dscp0x0', u'lacapx5yrg', u'e4cd3536', u'privat', u'behaviour', u'1721613740', u'nonat', u'strong', u'modifi', u'subjectnam', u'762ae11a', u'peerhandl', u'search', u'loopback', u'ahead', u'4422', u'10521000', u'tunnelspecifi', u'3550', u'99c71928', u'reason', u'fwb', u'fw01priact', u'mac', u'prior', u'amount', u'74wwxx35', u'pick', u'action', u'sonicwal', u'0x64b2279d', u'240', u'9914397186', u'snpfptracerdrop', u'untranslatehit', u'via', u'vid', u'192168125254', u'4159251x', u'61737320', u'wifi', u'put', u'vip', u'2a864886', u'tgcponli', u'sipdisconnect', u'a2bed877', u'1905', u'topn', u'120740', u'select', u'compactflash', u'flex', u'aggress', u'mb', u'helper', u'gmsadmin', u'07010c04', u'vpnssl', u'two', u'65642d43', u'almost', u'morn', u'sdmpool1', u'6', u'taken', u'xxxx60', u'grouppolicywialon', u'revocationcheck', u'105239', u'metric', u'minor', u'plain', u'reachabl', u'1506092a', u'9914397184', u'spoketospok', u'outsidein', u'093217809', u'1921682100', u'clientidentifi', u'pix506', u'portmap', u'classmap', u'ipsecovertcp', u'broke', u'particular', u'known', u'compani', u'cach', u'vpnisakmpprofile2', u'none', u'endpoint', u'trustpointsmartcallhomeserverca', u'describ', u'hour', u'cluster', u'lopeznegretecom', u'iomem', u'r3', u'pppattribut', u'vpntest', u'histori', u'71xx', u'abcdintnet', u'vs', u'mschap', u'caveat', u'espaes256', u'meoglnet', u'cerminform', u'dec', u'switch1', u'03', u'linktyp', u'comediarol', u'prompt', u'f5', u'networkobj172161024', u'scan', u'ikermm2', u'challeng', u'registr', u'share', u'basicthreat', u'accept', u'ikermm3', u'wwwciscocomcenustddocssecurityvpnclientanyconnectanyc', u'newmodel', u'55040613', u'051206203', u'xauth', u'l2tpvpn', u'bois', u'12001', u'bypass', u'csm', u'd41d8cd98f00b204e9800998ecf8427', u'cours', u'xxxx', u'6decd018', u'secur', u'rather', u'anoth', u'b62b8214', u'natxlatefail', u'2951', u'unitydpd', u'option', u'reject', u'ezvpnpool', u'xdmcp', u'simpl', u'ikemesgintern', u'e01d1b4c', u'sitetosit', u'300d0609', u'2552551280', u'resourc', u'circuit', u'referenc', u'fw', u'203103518', u'vlan', u'host101010252', u'691235ab', u'upload', u'fb', u'plane', u'whilst', u'b0e1095', u'webaccess', u'fi', u'node1868419487', u'associ', u'router1ip', u'160831728', u'dot1q', u'172210025525500', u'secb', u'800seri', u'roundtrip', u'onto', u'dccom', u'xxx1', u'xxx2', u'assign', u'caus', u'proxyarp', u'ethernet000', u'0xe82a86bc', u'pay', u'abcdnet', u'endpt', u'asahostnam', u'cnciscoasa', u'1300', u'help', u'100100', u'30070605', u'bdbuser', u'paper', u'reconnect', u'74wwxx35255255255255470', u'abevpn', u'4222', u'paramet', u'24', u'25', u'26', u'grouppolicy172xxxxx4', u'50004', u'21', u'22', u'23', u'brows', u'pcp', u'7a656420', u'28', u'outsideacl', u'172303024', u'ikeqmexch', u'41223483', u'lanwanacl', u'31042', u'308204d4', u'full\\u2026', u'69632050', u'pad', u'defaulticmp', u'5545x', u'asa5516', u'52d49130', u'remotenetextens', u'82114179105', u'cef', u'72792043', u'good', u'return', u'30090603', u'yn', u'ctuldap04', u'timestamp', u'isadbinsert', u'192168321', u'192168320', u'ssss', u'cet', u'somebodi', u'3bce6388', u'tunneliasa2', u'tunneliasa1', u'04031310', u'complain', u'cryptoisaikeencrypt', u'dminlineservice1', u'dminlineservice3', u'document', u'crymap77', u'1071790', u'jun', u'ff040830', u'troubleshoot', u'level', u'2x', u'denytru', u'authent', u'tear', u'achiev', u'ad867d64', u'sha384', u'mask000000000000', u'found', u'out', u'esp3desmd5', u'subsystem', u'breakdown', u'20024722953', u'detect', u'773f4245', u'remote2data', u'lasaacm5525', u'hard', u'atm0', u'isp1', u'procedur', u'realli', u'30120603', u'lantolan', u'00300', u'051205727', u'34e21d98', u'1921685254', u'event', u'buffers', u'hostnam', u'ftp', u'a855b47b', u'screenshot', u'29', u'item', u'marcio', u'robert', u'01', u'unknown', u'controlout', u'tlsv12', u'asasys7711001', u'networkid', u'tlsv11', u'readwrit', u'7', u'print', u'get', u'127000', u'127001', u'fastethernet1', u'proxi', u'advanc', u'3307c265', u'01042830', u'20867220220', u'sdmclnasa01loc', u'a4c4cb66', u'asa', u'base', u'believ', u'032009b8', u'sla', u'ask', u'rewrit', u'keyenginedeletesa', u'recv', u'workstat', u'2089213xx', u'yasser', u'thread', u'launch', u'ntp', u'204e9c95', u'youthfacility2', u'struggl', u'vpntran', u'0210', u'csr', u'w', u'fbe5a257', u'acapx1yr25', u'lifetim', u'inside210521001', u'natexempt', u'configikev2polici', u'major', u'dont', u'obviou', u'polici', u'ciscocom', u'exchang', u'asamap', u'sn', u'number', u'3de', u'52394977', u'done', u'policynat', u'blank', u'600', u'firmwar', u'miss', u'inputifcteeessy', u'fanci', u'defaultragroupsplittunnelacl1', u'guess', u'tsadminsplittunnelacl', u'guest', u'linksi', u'asdmlauncheraccesstrustpoint0', u'7479202d', u'96xxxx222', u'4886f70d', u'construct', u'checkpoint', u'station', u'656c662d', u'99999999', u'ccpskinnyinspect', u'cfg', u'scheme', u'boot', u'4c95d9c6', u'store', u'audit', u'2621', u'statement', u'behind', u'c58b14e7', u'ikev2plat2', u'235609', u'aesset', u'tfc', u'selector', u'profilea', u'082b0601', u'pars', u'3925', u'10012', u'c4c875b8', u'101010252', u'dual', u'sumvpntunnel', u'69536967', u'reinstal', u'00015', u'b', u'aaa', u'remoteftp', u'20757365', u'remot', u'remov', u'globalsign', u'pc', u'vpnsessiondb', u'8269137', u'f74aac57', u'eb379c00', u'cost', u'stp', u'kindli', u'17216101', u'024959771', u'clientbas', u'postur', u'stale', u'toward', u'typic', u'120746', u'rcvd', u'gigabitethernet00', u'02020101', u'881', u'125856906', u'comput', u'1921682111', u'asa7609002', u'ifc', u'abcsitenetwork', u'nattoremote1', u'02010030', u'packag', u'eikusersra', u'expir', u'abcsit', u'wialonserv', u'null', u'10472120', u'predeploy', u'remoteus', u'81f5b84a', u'outbound', u'built', u'a8819a47', u'remotesitevpn', u'self', u'serviceclass', u'dedic', u'click', u'33597fed', u'also', u'444f4dce', u'systemdefaultcryptomap', u'build', u'k9', u'ramzi', u'outsidelink2map', u'experienc', u'play', u'vnc', u'secureserv', u'64', u'reqtyp', u'passwd', u'dvrhttp', u'reach', u'63697363', u'dscp', u'compr', u'ifup', u'certmap', u'category1', u'plan', u'71', u'07', u'maco', u'model', u'6ecc7aa5a7032009b8cebcf4e952d491', u'kc', u'subscribetoalertgroup', u'311f301d', u'ke', u'clear', u'aclisp1dmvpnin', u'cover', u'joe', u'266', u'ext', u'part', u'networkobj139161025', u'192168254171', u'clean', u'dddd', u'ssl', u'1020205', u'1020202', u'microsoft', u'1020200', u'netremoteday', u'051205263', u'westmap', u'172312232', u'disten', u'celeron', u'persecond', u'test3', u'ec2externalip', u'cdt', u'maptobranchinterfac', u'session', u'particularli', u'rtr', u'101002252', u'holdtim', u'find', u'transesp3dessha', u'access', u'firewal', u'76657220', u'pretti', u'logneighborchang', u'paranoid', u'solut', u'192168610', u'category2', u'2098208b89845a8e', u'7b98d4c4', u'ipcomp', u'ronmitch50', u'factor', u'dminlineprotocol3', u'dminlineprotocol2', u'dminlineprotocol1', u'mike', u'79101965', u'dminlineprotocol4', u'ciscowebvpn', u'192168240', u'seri', u'upact', u'unus', u'xxxxxxxxx201', u'6ddc02ab', u'4f532d53', u'255000', u'crypto6ezvpnconnectiondown', u'nativ', u'outsidemap', u'mainten', u'107301', u'107300', u'banner', u'clientservic', u'restart', u'resend', u'vlan12', u'1921680245', u'inputinterfac', u'rc4sha1', u'technologypackag', u'157fcdb7', u'dtl', u'rfc', u'singapor', u'prelogin', u'common', u'7f432657', u'asa5500', u'x', u'cri', u'asa5505', u'crl', u'0x4b475724', u'arp', u'vpngrouppolici', u'set', u'ikeinfonotifi', u'pvt', u'seq', u'sep', u'ipsecpropos', u'ipv6splittunnelpolici', u'temporari', u'branchrtr', u'3947', u'r2vpn', u'see', u'50xxxxx190', u'sec', u'autoupd', u'domain', u'asassl7725011', u'close', u'11th', u'vpn2', u'node1931380074', u'node1224389198', u'ad65d306', u'024959723', u'1921681201', u'securityassoci', u'simultan', u'cebcf4e9', u'2f727061', u'101010150', u'matter', u'speed', u'someth', u'defaultloc', u'case', u'obj10112232', u'74', u'sbservice443', u'716440334', u'zonepair', u'experi', u'1d', u'300f0603', u'altern', u'signatur', u'dalla', u'appreci', u'6d2f6370', u'4706', u'76b1b417', u'5508x', u'ip172311142uswest2computeintern', u'urlentri', u'outputifcoutsid', u'xxxtonoc', u'testtunnel', u'pclan', u'v120', u'ike', u'fgk', u'local5', u'41001', u'444', u'kilobytes3600', u'101222', u'aloc', u'c', u'101221', u'last', u'159xxx', u'inout', u'pdt', u'outside192168210137', u'enrol', u'context', u'networkobj10140145024', u'1d130101', u'whole', u'load', u'simpli', u'enable15', u'schedul', u'c2000', u'ee2b99a', u'except', u'10471461', u'ikep1complet', u'tsadmin', u'ikev2polici', u'asdm', u'shutdown', u'linux', u'887', u'throughout', u'tuncnt', u'globalpolici', u'cve20154289', u'anyconnectclientlocalprint', u'unsuccess', u'java', u'61305fa1', u'093308913', u'devic', u'billuser1', u'perpetu', u'implicit', u'74776f72', u'unvers', u'secret', u'50mbp', u'pf', u'keyengineenableoutbound', u'1921682110', u'monthli', u'ethernet0', u'reissu', u'pl', u'1723035024', u'0007', u'0000', u'defaultinspectiontraff', u'0002', u'0003', u'10310', u'imag', u'exempt', u'shortli', u'great', u'ccph323inspect', u'e5d31a86', u'moment', u'4443', u'understand', u'102001', u'demand', u'nameserv', u'espaes192shatran', u'imap', u'grouppolicyacprofil', u'p2', u'p0', u'natezvpndestin', u'defaultwebvpngroup', u'look', u'offeringup', u'rlogin', u'batch', u'282014xxx00', u'durat', u'minavgmax', u'shanghaicli', u'nate', u'behavior', u'error', u'sw1', u'addressset', u'branchmap', u'loos', u'networkobj10101024', u'25525400', u'30', u'motd', u'insidetooutsid', u'10002', u'afpoloc', u'2d67352e', u'400', u'burstrat', u'sshmgmt', u'rip', u'36', u'4608000', u'b499a8e9', u'espshahmac', u'101916', u'auda', u'currentp', u'anyconnectprofil', u'6977431', u'891f', u'dmvpnnw', u'grant', u'seek', u'208xxyy11', u'botnet', u'would', u'20881640', u'03133c56', u'676e2c20', u'isadbkeyaddrdelet', u'19216815199', u'mypool', u'9', u'routerindc', u'cmgreprotocol', u'conflict', u'higher', u'891', u'18c0a865c0a86401', u'usec', u'x86', u'mmdone', u'imagin', u'camera', u'networkobj192168169026', u'poolmemb', u'wherea', u'100630788', u'alert', u'spokefqdn', u'015', u'000', u'007', u'user', u'managementvpnsecurednetwork', u'internetin', u'serial030', u'objany1', u'l2tpradiu', u'implement', u'recent', u'halfclos', u'lower', u'sha1', u'3541', u'older', u'entri', u'addresspool', u'lic', u'spent', u'without', u'ccpicmpaccess', u'person', u'obj1024464', u'realiz', u'loopback0', u'loopback1', u'splittunnelnetworklist', u'connnect', u'anybodi', u'qmidl', u'propos', u'explan', u'5020121893', u'768', u'violat', u'f69c803b', u'networkobject', u'desk', u'864886f7', u'connectnorsarno', u'1212122', u'inside2tooutside2', u'isadbmarksadelet', u'3descbc', u'mysql', u'3040', u'tpselfsigned1632305899', u'302020', u'simm', u'192168311', u'tunnel201', u'fd1406e8', u'tu3300', u'disk0', u'3895101116', u'azur', u'ccpclsinsptraff', u'shortcut', u'dhersaaes128sha256', u'40000', u'dhgroup', u'notifi', u'urildap', u'sydney', u'tweak', u'quick', u'input', u'tell', u'1921689960', u'acprofil', u'1730821', u'passcod', u'vendor', u'encryptiond', u'format', u'nhrp', u'big', u'0h00m00', u'origin', u'04061302', u'74204e65', u'051205259', u'4331', u'207177xxx', u'ssh', u'webvpnsessionc', u'ethernet06', u'sdmpolnatoutsidetoinside1', u'exectimeout', u'18004', u'preclassifi', u'usernamepassword', u'75xxx', u'coldstart', u'sourcerout', u'06010505', u'l2tpipsec', u'maxtasktim', u'fixup', u'success', u'signal', u'af43a895', u'resolv', u'shaper', u'04031326', u'1020303', u'092839983', u'1020301', u'hostentri', u'validateproposalrequest', u'includelocallan', u'192168168203', u'ikeprocessmainmod', u'noproposalchosen', u'172161032', u'certificateauthent', u'encount', u'httptsserver', u'ikeqmipsecinstallawait', u'teeessyou', u'00000000', u'dfltgrppolici', u'aginitexch', u'1st', u'main1voic', u'back', u'phone', u'200248056', u'myport', u'strongest', u'xx26832', u'pall', u'vlan10', u'server', u'variou', u'internet101002252', u'svcrequir', u'6d06082b', u'groupurl', u'11042130', u'though', u'2061695566', u'per', u'week', u'cdb50b26', u'pem', u'keyacquir', u'1250', u'xxxxxx', u'necessari', u'externikev2profil', u'00031', u'vpnlbip', u'either', u'machin', u'remotenetwork', u'192168301', u'netloc', u'run', u'esp3desmd5tran', u'28800', u'300', u'martin', u'saproto', u'306', u'backbon', u'78c45473', u'step', u'bp', u'br', u'output', u'andi', u'0603551d', u'remoteix', u'1e170d31', u'extpubint', u'ccpclsicmpaccess', u'usa', u'coexist', u'8021q', u'node1745931191', u'tunnelgrouplist', u'124231730', u'adasaloc', u'page', u'bgp', u'tie', u'idl', u'cmap', u'v3x', u'6459135133', u'nattravers', u'idb', u'block', u'72', u'00038201', u'intf', u'proto', u'nsa', u'within', u'transformset', u'093248909', u'192168013', u'192168010', u'ensur', u'100200', u'snmpg', u'1010400', u'asa5305013', u'idnet', u'mohammadaa', u'39060355', u'institut', u'cabl', u'kevinasa01net', u'webvpn', u'timeoutpolici', u'1921681100', u'question', u'120703', u'long', u'custom', u'trustpool', u'1723060', u'4ff595ec', u'icmpclass', u'includ', u'sslv3', u'suit', u'forward', u'101402024', u'120654', u'120653', u'120650', u'obj101300', u'irouteexport', u'3600', u'124234222', u'206127213', u'lasa5505secpl', u'networkobj102020024', u'server1', u'server2', u'17227730', u'352e3136', u'060b6086', u'list', u'link', u'translat', u'newer', u'352e3131', u'cryptovpn', u'sdm', u'305a3031', u'routetarget', u'18b49ae8', u'folk', u'73302a06', u'scanningthreat', u'info', u'utc', u'flexvpnextipsecprof', u'obj17227630', u'cid', u'tia', u'up', u'us', u'0xffffffff', u'ui', u'redistribut', u'proxyldcissu', u'ezvpnzon', u'highlight', u'ug', u'z', u'similar', u'uc', u'curv', u'exitaddressfamili', u'headend', u'vpnsslclient', u'39b88bca', u'valu', u'59305730', u'tcp5080', u'ea961d0b', u'fastethernet2', u'vpnprofilepal', u'1723012024', u'raadmingp', u'chap', u'peerreap', u'differ', u'home', u'tsespaes256sha', u'cst6', u'ivrf', u'058ec36', u'echo', u'nac', u'init', u'63', u'830788b4', u'ttl63', u'titl', u'pat', u'tx', u'groupyouthfacility2', u'invalid', u'956', u'gre', u'singapo', u'nat', u'858', u'linkup', u'cscut93920', u'10521001', u'2f676966', u'86f70d01', u'permitnonconnect', u'vpnnat', u'wildcard', u'v01', u'freez', u'05003081', u'vpnde', u'0403130a', u'flowid', u'hostaddress', u'thoma', u'anyconnectwin252014k9pkg', u'clue', u'helperaddress', u'93041af2', u'ago', u'tunnel101', u'e', u'algorithm', u'vice', u'age', u'confirm', u'xxxxxxxxxxxx', u'svc', u'rotari', u'fastethernet4', u'0d010105', u'3021301f', u'remoteset', u'fastethernet0', u'0d010101', u'dtlsv1', u'ethwan', u'restor', u'3851', u'2008', u'matchani', u'convert', u'corpoutsid', u'gw', u'authenticationserv', u'code', u'partial', u'gr', u'71x', u'25525500', u'queri', u'9b3f5345', u'c33mhmap', u'01ff0405', u'011', u'sessiontimeout', u'fastethernet01', u'fastethernet00', u'pctime', u'vpntunnelprotocol', u'go', u'tengigabitethernet00071', u'obj1722763133', u'10101', u'10100', u'nhse', u'compact', u'shanghaivpn', u'05050003', u'slot', u'headoffic', u'wizard', u'elsewher', u'1921682540', u'send', u'isakmp', u'1921682541', u'302c3111', u'multicast', u'visitor', u'that\\xb4', u'sens', u'fatal', u'124304274', u'sent', u'moot', u'passiv', u'b187841f', u'prib', u'g2', u'124230763', u'aclsite1tosite2', u'rout', u'statemaini3', u'statemaini4', u'account', u'comm', u'sslvpnpool', u'dcmap', u'volum', u'114', u'type1', u'172xxxxx4', u'l3type0x8', u'relev', u'4444', u'aesgcm192', u'tri', u'124232282', u'webvpnpool', u'win911', u'008', u'sdmeasyvpnserverpt', u'michael', u'17216xx', u'04183016', u'sslclientless', u'dealt', u'cdp', u'headquart', u'vpn1', u'vpnanyconnect', u'11111111', u'slow', u'x509v3', u'nomecrypto', u'27', u'dminlinenetwork16', u'contractor', u'0x0', u'ccpacl', u'l2l', u'pkcs12', u'gigabitethernet05', u'gigabitethernet04', u'dhcpclient', u'gigabitethernet01', u'2f2f6f63', u'gigabitethernet03', u'gigabitethernet02', u'download', u'l2x', u'odd', u'2821', u'174xx19432', u'compat', u'index', u'turn', u'ashok', u'id400', u'rate', u'2f2f6c6f', u'8b9421fa', u'725923158', u'asap', u'2806082b', u'123456', u'3389', u'ciscoattributenam', u'xxxxxxxxx', u'persess', u'patxlat', u'anther', u'1400', u'3442686097', u'policy1', u'winsserv', u'impact', u'255255255252', u'chose', u'093146793', u'leg', u'443', u'got', u'aes128sha256', u'06035504', u'83488174', u'let', u'id401', u'grouppolicycndvpn', u'passwordexpireinday', u'foreigndomaincom', u'userpass', u'becom', u'sinc', u'remotesargisplittunnelacl', u'0d06092a', u'asa5520', u'ecdheecdsaaes256sha384', u'rdp', u'asa5525', u'32', u'31', u'cerm', u'technolog', u'dmnlocal', u'35', u'later', u'cert', u'1930', u'202xxxxx242', u'vpnsplittunnel', u'opinion', u'chang', u'45010717', u'helpdesk', u'supportedr', u'revoc', u'control', u'configur', u'192168310', u'asaa', u'l2tpoveripsecovernatt', u'asdmtrustpoint1', u'newbi', u'win', u'app', u'436c6173', u'sgt', u'remotecryptomap72', u'routerid', u'numpacket', u'bitremot', u'egress', u'dhcpd', u'buildup', u'serverlist', u'b1ae1c67', u'gateway', u'cloud', u'86000', u'globalmpc', u'454ff4bb', u'use', u'feel', u'feb', u'97xx22', u'commun', u'doubl', u'upgrad', u'next', u'websit', u'19216810255255255000', u'bootstartmark', u'doubt', u'124254574', u'asai', u'03551d23', u'espdesshatran', u'queu', u'bccuser', u'grouppolici', u'inet', u'interzon', u'sort', u'don\\xc2\\xb4t', u'vpnuiex', u'dhgroup1sha1', u'846', u'ldap', u'mismatch', u'udptn', u'ntauthdomaincontrol', u'bootendmark', u'vpnclient', u'iaid', u'espaes192sha', u'pfx', u'cpremotevpn', u'cisco2901k9', u'lan1tolan2', u'051205759', u'150', u'132617', u'asa9161smpk8bin', u'retriev', u'kick', u'5000', u'f', u'dest', u'alia', u'101200', u'critic', u'03130863', u'obvious', u'5515x', u'outsidedaycryptomap', u'didnt', u'averager', u'asdmtrustpoint0', u'packetfilt', u'589cfe36', u'oursit', u'robertgroup', u'ritm', u'process', u'lock', u'espdessha', u'decapsul', u'dminlinenetwork5', u'saspi', u'high', u'1637', u'111mil', u'tag', u'perman', u'nextpayload', u'636f6d30', u'33205365', u'1921685420', u'192168460', u'websslgateway', u'virtualaccess3', u'ikedecod', u'outsidevpn', u'094255', u'routemap1', u'aes256', u'sip', u'main1al', u'flap', u'guru', u'gcm', u'aclnatrang', u'name1domaincom', u'delay', u'1921681000', u'1921681001', u'c8ad26db', u'7474703a', u'9373161229', u'1921681x', u'instead', u'medium', u'0211', u'sim', u'frag', u'2345', u'1723016024', u'1010206', u'4dc5bf11', u'blockp', u'1010201', u'await', u'differenti', u'grouppolicyanyconnect', u'1010200', u'hprcncatthesi', u'defaultrout', u'68087f6d', u'mymap', u'redund', u'10471530', u'version', u'physic', u'1721680', u'alloc', u'essenti', u'summert', u'445c1653', u'ospf', u'c20c45f5', u'counter', u'818d0030', u'correspond', u'7777772e', u'element', u'issu', u'19216811', u'10112232', u'authenticationservergroup', u'asa5555x01', u'unaccept', u'allow', u'subtyp', u'2552552480', u'ingress', u'least', u'43657274', u'093328913', u'2222', u'dynl2lvpn', u'insight', u'cisco881k9', u'evsndmsg', u'objvpnpool', u'report', u'130', u'cameramedia', u'asdm645206bin', u'164843', u'18301606', u'kbp', u'255255255192', u'onboard', u'grp5', u'bunch', u'andor', u'10471330', u'vpnnet', u'remark', u'alway', u'chosen', u'outsidecryptomapibfw', u'20473330', u'decap', u'clickabl', u'suppli', u'2921', u'70060355', u'ls', u'seq23510', u'wialonserverexternalip', u'2015', u'anyon', u'clientless', u'2016', u'2010', u'2013', u'2012', u'packettrac', u'1093725', u'crash', u'handl', u'auto', u'b2227055', u'192168101500', u'auth', u'101807', u'101804', u'dap', u'automat', u'023', u'objvpnanyconnectremot', u'front', u'pak', u'10110', u'10111', u'grouppolicy1234', u'seq18608', u'3560', u'1a04148f', u'somewher', u'1921685253', u'3dessha1', u'anyth', u'edit', u'20286329', u'cmicmp', u'30820194', u'grouppolicyabeonevpn', u'mode', u'lifeact', u'mikrotik', u'intrainterfac', u'072315', u'cryptoisaikehmac', u'tracer', u'prop19511321066', u'lie', u'2901', u'2900', u'4339fa02', u'sipinvit', u'144', u'2540', u'1031283', u'88', u'145', u'static', u'ec2', u'citrix', u'fine', u'easyvpn', u'hqrtr', u'oup', u'86', u'wwwciscocomwebaboutsecurityintelligencenextgencryptohtml', u'tunnelid', u'variabl', u'tests2', u'140', u'internetcrypto', u'7b192e30', u'70733a2f', u'tunnelgroupmap', u'networkobj10130024', u'review', u'mate', u'8800', u'cest', u'disappear', u'hardwar', u'dhcp', u'ikeiam1', u'savepassword', u'geod', u'red', u'shanghaivpnclientprofil', u'0202106e', u'clarifi', u'shut', u'insid', u'ecdsasig', u'69663028', u'frank', u'ciscocpvpnxauthml2', u'kilobyt', u'2002002002', u'undo', u'ipsecvpn', u'gigabitethernet16', u'gigabitethernet17', u'gigabitethernet14', u'gigabitethernet15', u'gigabitethernet12', u'gigabitethernet13', u'gigabitethernet10', u'gigabitethernet11', u'shun', u'dynamicaccesspolicyrecord', u'17216100', u'ipstraff', u'featur', u'20222', u'834762579', u'learnt', u'35395a30', u'node893966165', u'could', u'7369676e', u'093318913', u'fqdn', u'timer', u'192168195180', u'2e766572', u'length', u'unnat', u'organis', u'defaultdomain', u'outsid', u'0c8324ef', u'parallel', u'timezon', u'distinguish', u'4500', u'458', u'softwar', u'24f78526', u'suffix', u'dyn1', u'hubfqdn', u'1340', u'tonypc', u'093147805', u'qualiti', u'fastethernet', u'ethernet03', u'ethernet02', u'ethernet01', u'ethernet00', u'ethernet07', u'0x495a4bd', u'ethernet05', u'b1d4d3dc', u'20160420', u'facil', u'2d060355', u'255255255248', u'10129105100', u'prioriti', u'natacl', u'mschapv2', u'grouppolicy50xxxxx190', u'20867222222', u'1092215225', u'091734068', u'start', u'f70d0101', u'licens', u'vlan20', u'gigabitethernet0', u'system', u'gigabitethernet2', u'grow', u'nvram', u'1500', u'clientvpnpool', u'l2tp', u'termin', u'licenc', u'final', u'l2tpvpnin', u'smartnet', u'udp', u'dynt', u'rsh', u'inspect', u'highest', u'ccph225rasinspect', u'rsa', u'validationusag', u'wialonclientprofil', u'tunnel2010', u'34567', u'hollist', u'proxyvpngroup', u'ccppermiticmprepli', u'exactli', u'groupalia', u'ipad', u'dpd', u'629121681', u'managementonli', u'120709', u'17216010636', u'snpifcstat', u'vpnsimultaneouslogin', u'charact', u'probe', u'rtpmap', u'vlan30', u'bind', u'idipv4subnet', u'namepassword', u'2e636f6d', u'sargnet', u'ipopt', u'092838991', u'vpnasa', u'lacplspg', u'977919742', u'dropreason', u'viewer', u'insidenet', u'632e202d', u'8443', u'msec', u'clearli', u'192168184', u'remoteauthent', u'buy', u'35313230', u'192168300', u'tabl', u'need', u'19216810x', u'tcp995', u'941', u'34311730', u'70', u'636f6d2f', u'vpnpoolip', u'19216810', u'probabl', u'57', u'jdsyingaacom', u'781378492', u'peeridvalid', u'ldaploginpassword', u'vpntrafficallow', u'c2900', u'asdmlaunch', u'mmstart', u'1670bdea', u'19216813', u'56657269', u'cryptmap', u'srcnattransl', u'datacent', u'ikesareqam', u'060101ff', u'7f861af3', u'insidesubnet', u'pete', u'hq', u'unless', u'655272010', u'transset', u'deploy', u'acloutsidep', u'63292032', u'chassi', u'10201050', u'discov', u'34b1956c', u'192168101', u'192168100', u'192168103', u'sdmrmap1', u'19216810254', u'pop', u'cryptoss', u'devwebssh', u'vpncryptomap168inacl', u'03305630', u'atstrafficdr', u'webserverdmz', u'51', u'2026821120', u'2333', u'expert', u'101101', u'101100', u'url', u'skinni', u'evtimeout', u'request', u'726c2e76', u'networkobj1921682024', u'face', u'10011', u'1921681010', u'deni', u'determin', u'databas', u'occasion', u'65727469', u'1921680016', u'fact', u'25162368', u'sdmip', u'rsiprang', u'spokepublicip', u'text', u'verbos', u'anyway', u'h323', u'6174652d', u'obja', u'bring', u'x5fvxsdxboihq68a', u'networkobj10102024', u'fvrfivrf', u'objani', u'discoveri', u'vpdn', u'10471500', u'staff', u'redirect', u'multipoint', u'dcdomain', u'0e566572', u'noproxyarp', u'aqmregisterfnf', u'1599', u'16086369', u'forev', u'bug', u'jan', u'19216801', u'03334fc1', u'suppos', u'72696d61', u'concentr', u'flexvpn', u'sourcequench', u'xx167233', u'120700', u'hope', u'remotesargi', u'meant', u'8211719382', u'keyr', u'move', u'1721652', u'1721651', u'1024', u'6b313b30', u'familiar', u'valenzuela', u'120', u'linkprotocol', u'tcpproxyreassembl', u'123', u'124', u'128', u'05c0ea6', u'208yyzz11', u'tbd', u'groupauthor1', u'8c2c3f49', u'enabl', u'organ', u'tunel', u'1921', u'h', u'pst8', u'085151', u'site2sit', u'sha', u'stuff', u'8d3ee07b', u'integr', u'contain', u'2060', u'vpnippool', u'fortgat', u'qm', u'2552552552550', u'0d010902', u'dpdruthereack', u'tcp5060', u'clientvers', u'btw', u'legaci', u'anyconnectmacosxi3863109013k9pkg', u'19216844200389', u'insideaccessin', u'ike195113210660', u'knowledg', u'outsideaccessout', u'packet', u'\\u2013', u'039', u'splittunnelacl', u'troubl', u'd0f82d0c', u'204e6574', u'1771548334', u'xxxxx', u'wancryptomap59', u'statu', u'wire', u'outmap44', u'dot11', u'record', u'pattern', u'embeddedserviceengine00', u'20819xxxxx', u'2061272063', u'dot11g', u'written', u'75736520', u'retri', u'mmactiv', u'remoteaccess', u'email', u'54727573', u'verisign', u'ikedpd', u'classless', u'vendorrfc3947', u'kei', u'createsa', u'sho', u'sslclient', u'dccompani', u'day', u'job', u'entir', u'dot11a', u'key', u'9a6c70e', u'inside2nat0outbound', u'dmz', u'regular', u'david', u'phase1', u'hstransportprob', u'p2p', u'phase2', u'954afb03', u'sniff', u'72757374', u'plugin', u'admin', u'1231231231444', u'3945e', u'tracerout', u'etc', u'admit', u'instanc', u'ciscocisco', u'6119b5dd', u'6613500', u'routemap', u'vpnl2tpipsec', u'adjustmss', u'generalattribut', u'093126793', u'torn', u'cn', u'seq15799', u'guidelin', u'ca', u'c1921', u'cf', u'ce', u'ikeimm6', u'ikeimm5', u'cx', u'ikeimm3', u'ikeimm2', u'ikeimm1', u'respect', u'2800', u'2801', u'tpselfsigned220561722', u'cu', u'ct', u'chainsmartcallhomeserverca', u'quit', u'slowli', u'50ecafc', u'platform', u'spike', u'configwebvpn', u'1721818024', u'abcaccess', u'2d536967', u'outputifcani', u'besid', u'splitdn', u'catalyst', u'ah', u'3usucopfuimco4jk', u'hub2', u'hub1', u'immedi', u'acldrop', u'82x', u'dport', u'bit', u'185339', u'verizon', u'465', u'pid', u'65726953', u'b6eb8a80', u'tcpip', u'1200', u'5555', u'dialerlist', u'vpnpool', u'496e632', u'togeth', u'01a38201', u'asa912smpk8bin', u'reverserout', u'multilink', u'present', u'statist', u'5520', u'splitt', u'4200096', u'outside2', u'aesgcm', u'priority0', u'ccpinsptraff', u'pci', u'libcsd', u'aclnat', u'ca310b30', u'defin', u'108240', u'localonli', u'10100111', u'intranet', u'587', u'17231183024', u'xxx', u'outzon', u'5525', u'10010010010024', u'due', u'lifeinseconds28800', u'purchas', u'be79a530', u'file', u'1599359281', u'comediasdpforc', u'092a8648', u'demo', u'351538262', u'priority6', u'site', u'192168196', u'avl', u'20617574', u'archiv', u'tacac', u'everror', u'incom', u'revis', u'stablish', u'uniti', u'welcom', u'010', u'isp', u'125857071', u'ikev2', u'ikev1', u'member', u'whenev', u'2mx3ua4acabe8uop', u'15fca34b', u'android', u'inc', u'singl', u'nokia', u'http', u'structur', u'5555x', u'encryptionalgorithm', u'keepal', u'0e', u'upon', u'outsidelink2', u'vpnrout', u'v2', u'v3', u'remotekevin', u'f9fd2208', u'ee39cd6', u'mowepool', u'tftp', u'tpselfsigned1514396900', u'keep', u'1921681150', u'1921681620', u'b351d369', u'off', u'3x', u'30150603', u'mention', u'firstli', u'4011', u'well', u'09060355', u'xauthlist', u'thought', u'46', u'likewis', u'exampl', u'command', u'choos', u'03551d0f', u'ezvpn', u'usual', u'1018111', u'espdesmd5tran', u'test2', u'newest', u'less', u'percent', u'6f617361', u'fingerprint', u'cucm', u'11060355', u'tcp', u'00002', u'burstsiz', u'192168113', u'192168110', u'distant', u'virtual', u'2552552400', u'733a2f2f', u'26566572', u'paul', u'192168119', u'1391610', u'adv', u'web', u'10112100', u'wed', u'dnsserver', u'125856890', u'point', u'lake', u'remote2wireless', u'natt', u'1921681024', u'add', u'valid', u'acloutsid', u'crack', u'5', u'networkobj1921686025', u'194622320', u'match', u'espaes128md5', u'19216835', u'branch', u'aes128sha', u'webpag', u'approach', u'1072215225', u'1149953416', u'kkkk', u'10471510', u'trap', u'fwa', u'five', u'34c1f35b', u'objinsid', u'sdmpermitip', u'press', u'edt', u'password', u'desc', u'1731991832', u'loss', u'lt', u'like', u'lost', u'domainpermit', u'corpor', u'nat0', u'pki', u'ca2c23a9', u'esmtp', u'192168200', u'fortheir', u'mhz', u'afterauto', u'19216830', u'lose', u'61303406', u'flexclient', u'3030305a', u'101002', u'106100', u'101000', u'101001', u'164', u'unreach', u'shed', u'drop', u'farend', u'retransmit', u'captur', u'1019350', u'e6667812', u'7389cdd1', u'987', u'locallanaccess', u'093258913', u'115', u'defaultgrouppolici', u'keyengin', u'111', u'110', u'mistak', u'proper', u'sunrpc', u'peter', u'7878', u'dc3', u'transport', u'registri', u'nonc', u'est', u'ipsecattribut', u'esp', u'assum', u'avoid', u'octet', u'thank', u'overlap', u'19c5cfeb', u'66696361', u'serial031', u'outgo', u'leav', u'ciscotac1', u'remoteconnectionfortsus', u'686f7269', u'255', u'staticasa', u'?', u'l3', u'investig', u'vpnsessiontimeout', u'ps', u'usag', u'grouplock', u'els', u'31353132', u'vpntransform', u'remotewbnanyconnect', u'host', u'routero', u'although', u'be0a774a', u'serverpublicaddr1111', u'515e', u'ca790881', u'731', u'17227630', u'4179411', u'outside1721795461856', u'actual', u'iwan', u'kevin', u'5080', u'pvsasrjovmamnvkd', u'f04c828b', u'evresendmsg', u'evstartmm', u'ti', u'fri', u'asareceiv', u'5a170d32', u'0x00007fff376dbfd0', u'5075626c', u'overlook', u'absolut', u'failov', u'42694cf8', u'newcor', u'nexthop', u'100630908', u'asdm645bin', u'insideifvlan1', u'ikeprocesscomplet', u'assess', u'172307024', u'doesnt', u'empti', u'55040a13', u'255255255224', u'xxxasa', u'ccpinspect', u'cndvpndhcppool', u'management11', u'cc7aa5a7', u'1635', u'1636', u'tsespaessha', u'transfer', u'rcv', u'223523', u'snmp', u'494f532d', u'192168140', u'trigger', u'downgrad', u'intern101401450', u'asa1lan', u'3105182', u'individu', u'mykey', u'vpndymap', u'function', u'intermediate1', u'ef', u'sipmedia', u'ecdheecdsaaes128gcmsha256', u'2d322d36', u'2d876e74', u'c3128cba', u'crldp', u'hw', u'basicit', u'rtpset', u'dup', u'yosemit', u'092806275', u'ho', u'uninstal', u'adwmfps02', u'1038210', u'ha', u'localproxi', u'decomp', u'count', u'8211719381', u'4x', u'temp', u'whether', u'wish', u'directori', u'vpnaddrassign', u'unlock', u'listpric', u'po', u'cpravpn', u'xx24190', u'limit', u'virtualreassembl', u'172161370', u'tpselfsigned1751279470', u'1212121', u'problem', u'intercompani', u'display', u'ff300e06', u'netbio', u'splittunnelalldn', u'2434392874', u'espaes128md5tran', u'tac', u'evalu', u'int', u'descript', u'4292016', u'101290025525500', u'anyconnect', u'507665124', u'pix', u'82', u'63cd1941', u'64400', u'5833833b', u'83', u'outsidenat0outbound', u'dannetwork', u'80', u'20912312333', u'sdmnathttps1', u'sadest', u'81', u'1073037', u'48', u'descbc3sha', u'20220220210', u'47', u'guidanc', u'maximumprefix', u'42', u'detail', u'40', u'41', u'pvst', u'lookup', u'futur', u'hpm', u'mahesh', u'iskamp', u'2001', u'03551d1f', u'espaes256shatran', u'1721611', u'6f6e6c79', u'00000', u'tcp80', u'stat', u'repeat', u'130f3131', u'satran', u'cmhelpdesk', u'130e5665', u'172312550', u'stay', u'0x00007fff33abbc90', u'sure', u'1921682010', u'gig00', u'cryptomap', u'03551d0e', u'teeessyouencod', u'managementaccess', u'serial', u'10471380', u'14c8b558', u'maxnumb', u'ikeqmreadi', u'051205475', u'kbsec', u'dave', u'rule', u'pointtopoint', u'portion', u'tftpserver', u'1360', u'2kfqnbnidi2ky', u'4g', u'servicepolici', u'4e', u'040b1332', u'swresetbutton']\n"
     ]
    }
   ],
   "source": [
    "print(list(model.wv.vocab))"
   ]
  },
  {
   "cell_type": "code",
   "execution_count": 92,
   "metadata": {},
   "outputs": [
    {
     "name": "stdout",
     "output_type": "stream",
     "text": [
      "2273\n"
     ]
    }
   ],
   "source": [
    "print(len(list(model.wv.vocab)))"
   ]
  },
  {
   "cell_type": "code",
   "execution_count": 18,
   "metadata": {},
   "outputs": [
    {
     "name": "stdout",
     "output_type": "stream",
     "text": [
      "0      need help set up qo voip between two asa 5505 ...\n",
      "1      anyway get asa asa site site vpn besid interes...\n",
      "2      commun get stuck in sitetosit vpn configur bet...\n",
      "3      possibl make encrypt without buyingipsec vpn s...\n",
      "4      pix 515e sa get output vpn found one connect t...\n",
      "5      current asa5500ssl25 licens instal asa 5520 wa...\n",
      "6      morn friend asa 5512 run ipsec vpn tunnel thir...\n",
      "7      im configur remot access vpnwith ldap see in e...\n",
      "8      guy current use asa 5505 baselicens known defa...\n",
      "9      need chang url anyconnect client connect look ...\n",
      "10      configur remot vpn use 5505 asa unabl connect...\n",
      "11     asa5520k8 firewal intern custom connect given ...\n",
      "12     need put certif prsm virtual applianc work out...\n",
      "13     compani usersus anyconnect 31 want prompt bann...\n",
      "14     one custom follow question asa 5510 implement ...\n",
      "15     design new dual clouddual hubdmvpnnetwork spok...\n",
      "16     interest problem drive crazi whole day asa 550...\n",
      "17     imac run os x yosemit 10101 permiss instal any...\n",
      "18     search hour look ton answer ca nt seem get wor...\n",
      "19     situat ubuntu test laptop run dhcp server need...\n",
      "20     want find mani client connect anyconnect ssl v...\n",
      "21     everyon problem site site vpn between two rout...\n",
      "22     let first say thank read post goal creat dynam...\n",
      "23     in process move old ipsec vpn anyconnect vpn w...\n",
      "24     tri set up getvpn router connect one interfac ...\n",
      "25     compani current test out dual factor authent s...\n",
      "26     attach full configur router addit configur inc...\n",
      "27     custom bookmark intranet within clientless vpn...\n",
      "28     enabl alwayson vpn asa 5540 like vpn client ab...\n",
      "29     dear brother realli need kindli help site2sit ...\n",
      "                             ...                        \n",
      "638    everyon built flex vpn in compani suggest devi...\n",
      "639    asa 5525 firewal run anyconnect vpn three site...\n",
      "640    set up tunnel bewteen two 887 across internet ...\n",
      "641    expert anyon send link configur remoteaccess v...\n",
      "642    guy 3900 router current dmvpn router act hub c...\n",
      "643      anyon know tell differ between dynam static map\n",
      "644    use asa 5512x run 93 3 anyconnect vpn configur...\n",
      "645    normal nonvpn pointtopoint link between 2x asa...\n",
      "646    expert tri disabl remot access vpn in asa asa ...\n",
      "647    dear configur anyconnect asa work fine manag a...\n",
      "648    multipl 70 site site exact lan 1921682024 site...\n",
      "649    1 asa 5525 scenario current user authent use a...\n",
      "650    friend face big problem establish tunnel betwe...\n",
      "651    done fair amount search found similar issu exa...\n",
      "652    hey upgrad anyconnect vpn version 42030013 eve...\n",
      "653    tri creat tunnel abl get ospf neighbor peer gr...\n",
      "654    form site site vpn site site b 1921681024 1001...\n",
      "655    asapng current asaa center b connect ipsec vpn...\n",
      "656    configur dap maco user author access valid dom...\n",
      "657    new ccw want know order asa5516 anyconnect plu...\n",
      "658    guy configur ipsec sitetosit vpnon follow topo...\n",
      "659    best configur second vpn tunnel altern carrier...\n",
      "660    stuck problem anyconnect organis domain exampl...\n",
      "661    battl today bring up tunnel between 2 asa 5506...\n",
      "662    could someon pleas explain one would configur ...\n",
      "663    vpn anyconnect instal person laptop work remot...\n",
      "664    anyon pleas provid guidelin configur step depl...\n",
      "665    everybodi quick question guy md5sha use share ...\n",
      "666    dear team consid setup ipsec site site vpn bet...\n",
      "667    2 queri kindli assist 1 ipsec remot client vpn...\n",
      "Name: original_post, Length: 668, dtype: object\n",
      "(668, 3360)\n",
      "[[ 0.  0.  0. ...,  0.  0.  0.]\n",
      " [ 0.  0.  0. ...,  0.  0.  0.]\n",
      " [ 0.  0.  0. ...,  0.  0.  0.]\n",
      " ..., \n",
      " [ 0.  0.  0. ...,  0.  0.  0.]\n",
      " [ 0.  0.  0. ...,  0.  0.  0.]\n",
      " [ 0.  0.  0. ...,  0.  0.  0.]]\n"
     ]
    }
   ],
   "source": [
    "tfidf = TfidfVectorizer(min_df = 2)\n",
    "tfs = tfidf.fit_transform(df['original_post'])\n",
    "print(df['original_post'])\n",
    "print(tfs.shape)\n",
    "print(tfs.toarray())"
   ]
  },
  {
   "cell_type": "code",
   "execution_count": 8,
   "metadata": {},
   "outputs": [
    {
     "name": "stdout",
     "output_type": "stream",
     "text": [
      "      00      0000     00000     00002    000255     00030  00038201  0007  \\\n",
      "0    0.0  0.000000  0.000000  0.000000  0.000000  0.000000       0.0   0.0   \n",
      "1    0.0  0.000000  0.000000  0.000000  0.000000  0.000000       0.0   0.0   \n",
      "2    0.0  0.000000  0.000000  0.000000  0.000000  0.000000       0.0   0.0   \n",
      "3    0.0  0.000000  0.000000  0.000000  0.000000  0.000000       0.0   0.0   \n",
      "4    0.0  0.000000  0.000000  0.000000  0.000000  0.000000       0.0   0.0   \n",
      "5    0.0  0.000000  0.000000  0.000000  0.000000  0.000000       0.0   0.0   \n",
      "6    0.0  0.000000  0.000000  0.000000  0.000000  0.000000       0.0   0.0   \n",
      "7    0.0  0.000000  0.000000  0.000000  0.000000  0.000000       0.0   0.0   \n",
      "8    0.0  0.000000  0.000000  0.000000  0.000000  0.000000       0.0   0.0   \n",
      "9    0.0  0.000000  0.000000  0.000000  0.000000  0.000000       0.0   0.0   \n",
      "10   0.0  0.000000  0.000000  0.000000  0.000000  0.000000       0.0   0.0   \n",
      "11   0.0  0.000000  0.000000  0.000000  0.000000  0.000000       0.0   0.0   \n",
      "12   0.0  0.000000  0.000000  0.000000  0.000000  0.000000       0.0   0.0   \n",
      "13   0.0  0.000000  0.000000  0.000000  0.000000  0.000000       0.0   0.0   \n",
      "14   0.0  0.000000  0.000000  0.000000  0.000000  0.000000       0.0   0.0   \n",
      "15   0.0  0.000000  0.000000  0.000000  0.000000  0.000000       0.0   0.0   \n",
      "16   0.0  0.000000  0.000000  0.000000  0.000000  0.000000       0.0   0.0   \n",
      "17   0.0  0.000000  0.000000  0.000000  0.000000  0.000000       0.0   0.0   \n",
      "18   0.0  0.000000  0.000000  0.000000  0.000000  0.000000       0.0   0.0   \n",
      "19   0.0  0.000000  0.000000  0.000000  0.000000  0.000000       0.0   0.0   \n",
      "20   0.0  0.000000  0.000000  0.000000  0.000000  0.000000       0.0   0.0   \n",
      "21   0.0  0.064317  0.000000  0.000000  0.289802  0.000000       0.0   0.0   \n",
      "22   0.0  0.000000  0.000000  0.000000  0.000000  0.000000       0.0   0.0   \n",
      "23   0.0  0.000000  0.000000  0.000000  0.000000  0.000000       0.0   0.0   \n",
      "24   0.0  0.000000  0.000000  0.000000  0.000000  0.000000       0.0   0.0   \n",
      "25   0.0  0.000000  0.000000  0.000000  0.000000  0.000000       0.0   0.0   \n",
      "26   0.0  0.000000  0.000000  0.000000  0.000000  0.000000       0.0   0.0   \n",
      "27   0.0  0.000000  0.000000  0.000000  0.000000  0.000000       0.0   0.0   \n",
      "28   0.0  0.000000  0.000000  0.000000  0.000000  0.000000       0.0   0.0   \n",
      "29   0.0  0.000000  0.000000  0.000000  0.000000  0.000000       0.0   0.0   \n",
      "..   ...       ...       ...       ...       ...       ...       ...   ...   \n",
      "638  0.0  0.000000  0.000000  0.000000  0.000000  0.000000       0.0   0.0   \n",
      "639  0.0  0.000000  0.000000  0.000000  0.000000  0.000000       0.0   0.0   \n",
      "640  0.0  0.000000  0.000000  0.000000  0.294165  0.000000       0.0   0.0   \n",
      "641  0.0  0.000000  0.000000  0.000000  0.000000  0.000000       0.0   0.0   \n",
      "642  0.0  0.000000  0.000000  0.000000  0.000000  0.000000       0.0   0.0   \n",
      "643  0.0  0.000000  0.000000  0.000000  0.000000  0.000000       0.0   0.0   \n",
      "644  0.0  0.000000  0.000000  0.000000  0.000000  0.000000       0.0   0.0   \n",
      "645  0.0  0.140536  0.000000  0.000000  0.000000  0.000000       0.0   0.0   \n",
      "646  0.0  0.000000  0.000000  0.000000  0.000000  0.000000       0.0   0.0   \n",
      "647  0.0  0.000000  0.000000  0.000000  0.000000  0.000000       0.0   0.0   \n",
      "648  0.0  0.000000  0.000000  0.000000  0.000000  0.000000       0.0   0.0   \n",
      "649  0.0  0.000000  0.000000  0.000000  0.000000  0.000000       0.0   0.0   \n",
      "650  0.0  0.000000  0.000000  0.000000  0.000000  0.000000       0.0   0.0   \n",
      "651  0.0  0.000000  0.000000  0.000000  0.000000  0.000000       0.0   0.0   \n",
      "652  0.0  0.000000  0.000000  0.000000  0.000000  0.000000       0.0   0.0   \n",
      "653  0.0  0.000000  0.000000  0.000000  0.164056  0.000000       0.0   0.0   \n",
      "654  0.0  0.000000  0.000000  0.000000  0.000000  0.000000       0.0   0.0   \n",
      "655  0.0  0.000000  0.000000  0.000000  0.000000  0.000000       0.0   0.0   \n",
      "656  0.0  0.000000  0.000000  0.000000  0.000000  0.000000       0.0   0.0   \n",
      "657  0.0  0.000000  0.000000  0.000000  0.000000  0.000000       0.0   0.0   \n",
      "658  0.0  0.000000  0.000000  0.000000  0.000000  0.000000       0.0   0.0   \n",
      "659  0.0  0.000000  0.000000  0.000000  0.000000  0.000000       0.0   0.0   \n",
      "660  0.0  0.000000  0.000000  0.000000  0.000000  0.000000       0.0   0.0   \n",
      "661  0.0  0.052074  0.032497  0.032741  0.000000  0.036052       0.0   0.0   \n",
      "662  0.0  0.000000  0.000000  0.000000  0.000000  0.000000       0.0   0.0   \n",
      "663  0.0  0.000000  0.000000  0.000000  0.000000  0.000000       0.0   0.0   \n",
      "664  0.0  0.000000  0.000000  0.000000  0.000000  0.000000       0.0   0.0   \n",
      "665  0.0  0.000000  0.000000  0.000000  0.000000  0.000000       0.0   0.0   \n",
      "666  0.0  0.000000  0.000000  0.000000  0.000000  0.000000       0.0   0.0   \n",
      "667  0.0  0.000000  0.000000  0.000000  0.000000  0.000000       0.0   0.0   \n",
      "\n",
      "        00100  001255    ...      ye  year  yet     yield   yn  yosemit  \\\n",
      "0    0.000000     0.0    ...     0.0   0.0  0.0  0.000000  0.0  0.00000   \n",
      "1    0.000000     0.0    ...     0.0   0.0  0.0  0.000000  0.0  0.00000   \n",
      "2    0.000000     0.0    ...     0.0   0.0  0.0  0.000000  0.0  0.00000   \n",
      "3    0.000000     0.0    ...     0.0   0.0  0.0  0.000000  0.0  0.00000   \n",
      "4    0.000000     0.0    ...     0.0   0.0  0.0  0.000000  0.0  0.00000   \n",
      "5    0.000000     0.0    ...     0.0   0.0  0.0  0.000000  0.0  0.00000   \n",
      "6    0.000000     0.0    ...     0.0   0.0  0.0  0.000000  0.0  0.00000   \n",
      "7    0.000000     0.0    ...     0.0   0.0  0.0  0.000000  0.0  0.00000   \n",
      "8    0.000000     0.0    ...     0.0   0.0  0.0  0.000000  0.0  0.00000   \n",
      "9    0.000000     0.0    ...     0.0   0.0  0.0  0.000000  0.0  0.00000   \n",
      "10   0.000000     0.0    ...     0.0   0.0  0.0  0.000000  0.0  0.00000   \n",
      "11   0.000000     0.0    ...     0.0   0.0  0.0  0.113656  0.0  0.00000   \n",
      "12   0.000000     0.0    ...     0.0   0.0  0.0  0.000000  0.0  0.00000   \n",
      "13   0.000000     0.0    ...     0.0   0.0  0.0  0.000000  0.0  0.00000   \n",
      "14   0.000000     0.0    ...     0.0   0.0  0.0  0.000000  0.0  0.00000   \n",
      "15   0.000000     0.0    ...     0.0   0.0  0.0  0.000000  0.0  0.00000   \n",
      "16   0.000000     0.0    ...     0.0   0.0  0.0  0.000000  0.0  0.00000   \n",
      "17   0.000000     0.0    ...     0.0   0.0  0.0  0.000000  0.0  0.12473   \n",
      "18   0.000000     0.0    ...     0.0   0.0  0.0  0.000000  0.0  0.00000   \n",
      "19   0.000000     0.0    ...     0.0   0.0  0.0  0.000000  0.0  0.00000   \n",
      "20   0.000000     0.0    ...     0.0   0.0  0.0  0.000000  0.0  0.00000   \n",
      "21   0.000000     0.0    ...     0.0   0.0  0.0  0.000000  0.0  0.00000   \n",
      "22   0.000000     0.0    ...     0.0   0.0  0.0  0.000000  0.0  0.00000   \n",
      "23   0.000000     0.0    ...     0.0   0.0  0.0  0.000000  0.0  0.00000   \n",
      "24   0.000000     0.0    ...     0.0   0.0  0.0  0.000000  0.0  0.00000   \n",
      "25   0.000000     0.0    ...     0.0   0.0  0.0  0.000000  0.0  0.00000   \n",
      "26   0.000000     0.0    ...     0.0   0.0  0.0  0.000000  0.0  0.00000   \n",
      "27   0.000000     0.0    ...     0.0   0.0  0.0  0.000000  0.0  0.00000   \n",
      "28   0.000000     0.0    ...     0.0   0.0  0.0  0.000000  0.0  0.00000   \n",
      "29   0.000000     0.0    ...     0.0   0.0  0.0  0.000000  0.0  0.00000   \n",
      "..        ...     ...    ...     ...   ...  ...       ...  ...      ...   \n",
      "638  0.000000     0.0    ...     0.0   0.0  0.0  0.000000  0.0  0.00000   \n",
      "639  0.000000     0.0    ...     0.0   0.0  0.0  0.000000  0.0  0.00000   \n",
      "640  0.000000     0.0    ...     0.0   0.0  0.0  0.000000  0.0  0.00000   \n",
      "641  0.000000     0.0    ...     0.0   0.0  0.0  0.000000  0.0  0.00000   \n",
      "642  0.000000     0.0    ...     0.0   0.0  0.0  0.000000  0.0  0.00000   \n",
      "643  0.000000     0.0    ...     0.0   0.0  0.0  0.000000  0.0  0.00000   \n",
      "644  0.000000     0.0    ...     0.0   0.0  0.0  0.000000  0.0  0.00000   \n",
      "645  0.000000     0.0    ...     0.0   0.0  0.0  0.000000  0.0  0.00000   \n",
      "646  0.000000     0.0    ...     0.0   0.0  0.0  0.000000  0.0  0.00000   \n",
      "647  0.000000     0.0    ...     0.0   0.0  0.0  0.000000  0.0  0.00000   \n",
      "648  0.000000     0.0    ...     0.0   0.0  0.0  0.000000  0.0  0.00000   \n",
      "649  0.000000     0.0    ...     0.0   0.0  0.0  0.000000  0.0  0.00000   \n",
      "650  0.000000     0.0    ...     0.0   0.0  0.0  0.000000  0.0  0.00000   \n",
      "651  0.000000     0.0    ...     0.0   0.0  0.0  0.000000  0.0  0.00000   \n",
      "652  0.000000     0.0    ...     0.0   0.0  0.0  0.000000  0.0  0.00000   \n",
      "653  0.000000     0.0    ...     0.0   0.0  0.0  0.000000  0.0  0.00000   \n",
      "654  0.000000     0.0    ...     0.0   0.0  0.0  0.000000  0.0  0.00000   \n",
      "655  0.000000     0.0    ...     0.0   0.0  0.0  0.000000  0.0  0.00000   \n",
      "656  0.000000     0.0    ...     0.0   0.0  0.0  0.000000  0.0  0.00000   \n",
      "657  0.000000     0.0    ...     0.0   0.0  0.0  0.000000  0.0  0.00000   \n",
      "658  0.000000     0.0    ...     0.0   0.0  0.0  0.000000  0.0  0.00000   \n",
      "659  0.000000     0.0    ...     0.0   0.0  0.0  0.000000  0.0  0.00000   \n",
      "660  0.000000     0.0    ...     0.0   0.0  0.0  0.000000  0.0  0.00000   \n",
      "661  0.032993     0.0    ...     0.0   0.0  0.0  0.000000  0.0  0.00000   \n",
      "662  0.000000     0.0    ...     0.0   0.0  0.0  0.000000  0.0  0.00000   \n",
      "663  0.000000     0.0    ...     0.0   0.0  0.0  0.000000  0.0  0.00000   \n",
      "664  0.000000     0.0    ...     0.0   0.0  0.0  0.000000  0.0  0.00000   \n",
      "665  0.000000     0.0    ...     0.0   0.0  0.0  0.000000  0.0  0.00000   \n",
      "666  0.000000     0.0    ...     0.0   0.0  0.0  0.000000  0.0  0.00000   \n",
      "667  0.000000     0.0    ...     0.0   0.0  0.0  0.000000  0.0  0.00000   \n",
      "\n",
      "         yyyi  zone  zonememb  zonepair  \n",
      "0    0.000000   0.0       0.0       0.0  \n",
      "1    0.000000   0.0       0.0       0.0  \n",
      "2    0.000000   0.0       0.0       0.0  \n",
      "3    0.000000   0.0       0.0       0.0  \n",
      "4    0.000000   0.0       0.0       0.0  \n",
      "5    0.000000   0.0       0.0       0.0  \n",
      "6    0.000000   0.0       0.0       0.0  \n",
      "7    0.000000   0.0       0.0       0.0  \n",
      "8    0.000000   0.0       0.0       0.0  \n",
      "9    0.000000   0.0       0.0       0.0  \n",
      "10   0.000000   0.0       0.0       0.0  \n",
      "11   0.000000   0.0       0.0       0.0  \n",
      "12   0.000000   0.0       0.0       0.0  \n",
      "13   0.000000   0.0       0.0       0.0  \n",
      "14   0.000000   0.0       0.0       0.0  \n",
      "15   0.000000   0.0       0.0       0.0  \n",
      "16   0.000000   0.0       0.0       0.0  \n",
      "17   0.000000   0.0       0.0       0.0  \n",
      "18   0.000000   0.0       0.0       0.0  \n",
      "19   0.000000   0.0       0.0       0.0  \n",
      "20   0.000000   0.0       0.0       0.0  \n",
      "21   0.123447   0.0       0.0       0.0  \n",
      "22   0.000000   0.0       0.0       0.0  \n",
      "23   0.000000   0.0       0.0       0.0  \n",
      "24   0.000000   0.0       0.0       0.0  \n",
      "25   0.000000   0.0       0.0       0.0  \n",
      "26   0.000000   0.0       0.0       0.0  \n",
      "27   0.000000   0.0       0.0       0.0  \n",
      "28   0.000000   0.0       0.0       0.0  \n",
      "29   0.000000   0.0       0.0       0.0  \n",
      "..        ...   ...       ...       ...  \n",
      "638  0.000000   0.0       0.0       0.0  \n",
      "639  0.000000   0.0       0.0       0.0  \n",
      "640  0.000000   0.0       0.0       0.0  \n",
      "641  0.000000   0.0       0.0       0.0  \n",
      "642  0.000000   0.0       0.0       0.0  \n",
      "643  0.000000   0.0       0.0       0.0  \n",
      "644  0.000000   0.0       0.0       0.0  \n",
      "645  0.000000   0.0       0.0       0.0  \n",
      "646  0.000000   0.0       0.0       0.0  \n",
      "647  0.000000   0.0       0.0       0.0  \n",
      "648  0.000000   0.0       0.0       0.0  \n",
      "649  0.000000   0.0       0.0       0.0  \n",
      "650  0.000000   0.0       0.0       0.0  \n",
      "651  0.000000   0.0       0.0       0.0  \n",
      "652  0.000000   0.0       0.0       0.0  \n",
      "653  0.000000   0.0       0.0       0.0  \n",
      "654  0.000000   0.0       0.0       0.0  \n",
      "655  0.000000   0.0       0.0       0.0  \n",
      "656  0.000000   0.0       0.0       0.0  \n",
      "657  0.000000   0.0       0.0       0.0  \n",
      "658  0.000000   0.0       0.0       0.0  \n",
      "659  0.000000   0.0       0.0       0.0  \n",
      "660  0.000000   0.0       0.0       0.0  \n",
      "661  0.000000   0.0       0.0       0.0  \n",
      "662  0.000000   0.0       0.0       0.0  \n",
      "663  0.000000   0.0       0.0       0.0  \n",
      "664  0.000000   0.0       0.0       0.0  \n",
      "665  0.000000   0.0       0.0       0.0  \n",
      "666  0.000000   0.0       0.0       0.0  \n",
      "667  0.000000   0.0       0.0       0.0  \n",
      "\n",
      "[668 rows x 3360 columns]\n"
     ]
    }
   ],
   "source": [
    "analyze = pd.DataFrame(tfs.A, columns = tfidf.get_feature_names())\n",
    "print(analyze)"
   ]
  },
  {
   "cell_type": "code",
   "execution_count": 9,
   "metadata": {},
   "outputs": [
    {
     "data": {
      "text/plain": [
       "KMeans(algorithm='auto', copy_x=True, init='k-means++', max_iter=300,\n",
       "    n_clusters=8, n_init=10, n_jobs=1, precompute_distances='auto',\n",
       "    random_state=None, tol=0.0001, verbose=0)"
      ]
     },
     "execution_count": 9,
     "metadata": {},
     "output_type": "execute_result"
    }
   ],
   "source": [
    "clf = KMeans(n_clusters = 8)\n",
    "clf.fit(tfs)"
   ]
  },
  {
   "cell_type": "code",
   "execution_count": 10,
   "metadata": {},
   "outputs": [
    {
     "name": "stdout",
     "output_type": "stream",
     "text": [
      "[[ 0.          0.          0.         ...,  0.          0.          0.        ]\n",
      " [ 0.0002002   0.00503626  0.         ...,  0.00155362  0.          0.        ]\n",
      " [ 0.          0.00119994  0.         ...,  0.00221015  0.          0.        ]\n",
      " ..., \n",
      " [ 0.00032256  0.00467696  0.00047155 ...,  0.          0.          0.        ]\n",
      " [ 0.00645247  0.02273819  0.00041154 ...,  0.00127797  0.00259336  0.        ]\n",
      " [ 0.01284357  0.0211222   0.00472331 ...,  0.          0.          0.        ]]\n",
      "[1 2 5 1 5 4 0 1 5 0 1 6 0 1 2 5 3 0 2 1 1 6 6 0 5 1 1 0 1 2 3 5 1 1 2 1 1\n",
      " 0 1 7 4 2 7 3 0 4 1 0 5 1 7 1 1 5 6 6 1 4 0 5 0 2 4 1 4 4 5 3 1 0 2 4 3 5\n",
      " 1 7 2 6 1 6 1 6 2 1 0 4 1 5 7 1 1 1 6 5 3 6 3 6 1 1 5 1 1 6 5 0 5 6 6 0 2\n",
      " 6 0 1 4 5 0 2 5 1 2 0 5 0 1 6 5 7 0 5 6 7 6 0 1 5 1 1 5 4 1 2 2 0 0 4 2 0\n",
      " 3 5 0 2 1 4 4 5 1 1 0 0 6 1 3 0 1 6 7 1 0 6 6 1 1 1 0 1 0 0 7 0 1 0 2 2 0\n",
      " 4 6 3 3 5 1 1 2 6 3 5 1 1 5 7 5 5 1 1 0 4 1 1 1 4 1 2 4 2 0 3 4 5 4 2 1 3\n",
      " 1 0 1 1 1 1 5 5 0 5 1 0 0 0 5 3 0 2 7 1 1 6 0 2 1 1 3 1 7 5 4 0 4 0 5 0 5\n",
      " 2 0 0 4 3 5 7 4 0 5 1 2 5 0 0 1 5 5 5 1 1 0 0 7 2 0 5 1 0 2 4 1 5 7 1 2 6\n",
      " 5 2 6 5 1 5 1 5 2 1 5 3 2 6 7 0 2 5 6 5 1 5 2 0 1 1 6 1 0 1 1 4 4 0 1 0 1\n",
      " 1 3 5 4 1 3 0 5 4 5 4 1 1 1 1 4 0 5 0 6 2 4 1 1 6 6 4 6 6 0 1 1 1 1 5 1 2\n",
      " 5 0 1 6 2 0 1 2 0 1 6 1 4 4 2 5 2 2 0 0 0 1 5 5 5 0 0 2 5 1 2 5 5 1 1 4 1\n",
      " 1 5 1 7 1 0 5 3 3 5 1 0 0 1 0 0 5 6 2 0 1 2 1 1 1 1 5 0 1 4 1 6 5 6 0 2 1\n",
      " 0 5 1 5 1 1 0 2 6 3 1 5 1 1 1 4 0 2 1 5 5 5 1 5 2 4 1 3 5 3 1 4 5 5 3 1 7\n",
      " 2 1 6 2 4 1 1 0 0 4 5 0 1 5 0 2 7 1 1 1 0 1 7 5 4 2 1 4 2 1 1 1 0 0 2 2 1\n",
      " 1 5 1 5 7 0 1 5 5 1 5 1 0 2 4 1 1 1 5 3 1 1 1 1 5 7 3 2 3 4 1 1 5 5 6 0 7\n",
      " 2 2 5 6 5 5 6 3 3 4 5 5 5 7 2 1 5 6 1 1 4 0 0 3 6 1 6 5 5 5 2 4 6 1 1 1 0\n",
      " 3 5 1 1 5 2 1 1 1 4 2 1 5 6 1 1 1 5 1 1 4 1 1 5 0 7 5 5 2 5 6 1 3 1 1 3 6\n",
      " 5 5 5 6 5 0 5 2 1 1 2 6 1 5 5 1 5 0 0 2 1 2 1 0 6 2 1 1 4 5 2 1 3 1 0 1 1\n",
      " 5 4]\n"
     ]
    }
   ],
   "source": [
    "centroids = clf.cluster_centers_\n",
    "labels = clf.labels_\n",
    "print(centroids)\n",
    "print(labels)"
   ]
  },
  {
   "cell_type": "code",
   "execution_count": 8,
   "metadata": {},
   "outputs": [
    {
     "name": "stdout",
     "output_type": "stream",
     "text": [
      "(668, 3360)\n",
      "[4 7 4 4 4 2 0 5 4 5 4 1 0 5 7 4 1 5 7 5 5 3 1 0 4 5 5 5 5 7 1 4 5 5 7 5 5\n",
      " 0 5 1 2 7 6 1 4 2 5 5 4 4 1 5 5 4 3 3 5 5 5 4 5 7 2 5 2 2 4 6 5 5 7 5 6 4\n",
      " 5 3 1 1 5 1 5 3 7 5 4 2 5 4 3 5 4 5 1 3 6 3 6 1 5 5 4 5 4 1 4 0 4 3 3 5 7\n",
      " 3 4 5 2 4 5 7 4 4 7 0 4 5 5 3 4 6 0 4 1 6 3 0 5 4 5 5 4 2 4 7 4 0 4 2 7 5\n",
      " 6 4 4 5 5 2 2 4 5 5 5 5 4 4 6 5 4 1 6 5 5 3 3 1 5 5 4 5 5 5 6 4 5 5 7 7 5\n",
      " 2 3 6 6 3 5 5 7 3 6 4 5 4 3 1 4 4 5 5 5 2 5 5 5 2 5 7 2 7 0 6 2 1 2 7 5 6\n",
      " 5 5 1 5 5 4 4 4 5 4 5 5 5 5 4 6 0 7 1 5 5 3 5 7 5 5 1 5 3 4 2 5 2 0 4 5 7\n",
      " 7 0 0 2 1 4 6 2 5 4 5 7 4 5 4 5 4 4 4 4 5 0 5 1 7 0 4 5 0 7 2 5 1 6 5 7 3\n",
      " 7 7 3 4 5 4 5 4 7 5 4 6 7 3 1 4 7 4 4 1 4 1 7 0 5 5 1 4 0 5 5 2 2 0 5 5 5\n",
      " 5 1 4 2 4 6 5 4 2 4 2 4 5 1 4 2 0 4 0 1 7 2 4 5 4 3 2 3 3 0 5 5 5 5 4 5 7\n",
      " 4 5 5 3 7 5 4 7 0 5 3 4 5 2 7 1 7 7 5 0 0 5 4 4 4 4 5 7 4 0 7 4 4 5 5 2 5\n",
      " 5 4 5 6 4 0 4 1 1 4 4 0 0 5 5 0 4 3 7 0 5 7 5 4 5 5 4 5 5 2 5 4 4 1 0 7 5\n",
      " 5 4 5 4 4 5 4 7 5 6 5 4 5 5 4 2 5 7 5 4 4 4 5 4 7 2 4 1 4 1 5 2 1 4 6 5 3\n",
      " 7 4 3 7 2 5 4 4 5 2 4 5 4 1 5 7 1 5 5 5 5 4 1 4 2 4 5 2 4 5 5 4 0 4 7 7 5\n",
      " 4 4 5 4 1 5 4 1 4 4 4 5 5 7 2 5 5 5 1 6 5 5 5 5 1 3 6 7 6 2 5 5 4 4 3 5 1\n",
      " 7 7 4 3 1 4 3 1 1 2 4 1 1 6 7 4 4 3 4 5 2 5 5 6 3 5 1 4 4 4 7 2 3 5 5 5 4\n",
      " 6 4 5 5 4 7 5 5 4 2 7 4 4 1 5 5 5 3 4 4 2 4 5 3 0 6 4 4 7 4 3 4 6 4 4 6 3\n",
      " 4 4 4 4 4 4 4 4 5 5 7 3 5 4 4 1 4 5 5 7 0 7 5 5 3 7 5 5 2 4 7 5 6 4 5 5 5\n",
      " 1 2]\n",
      "668\n"
     ]
    }
   ],
   "source": [
    "print(tfs.shape)\n",
    "print(labels)\n",
    "print(len(labels))"
   ]
  },
  {
   "cell_type": "code",
   "execution_count": 9,
   "metadata": {},
   "outputs": [
    {
     "name": "stdout",
     "output_type": "stream",
     "text": [
      "0.0211981559783\n"
     ]
    }
   ],
   "source": [
    "from sklearn import metrics\n",
    "kmeans_silhouette_score = metrics.silhouette_score(tfs, labels, metric='euclidean')\n",
    "print(kmeans_silhouette_score)"
   ]
  },
  {
   "cell_type": "code",
   "execution_count": null,
   "metadata": {
    "collapsed": true
   },
   "outputs": [],
   "source": []
  }
 ],
 "metadata": {
  "kernelspec": {
   "display_name": "Python 2",
   "language": "python",
   "name": "python2"
  },
  "language_info": {
   "codemirror_mode": {
    "name": "ipython",
    "version": 2
   },
   "file_extension": ".py",
   "mimetype": "text/x-python",
   "name": "python",
   "nbconvert_exporter": "python",
   "pygments_lexer": "ipython2",
   "version": "2.7.13"
  }
 },
 "nbformat": 4,
 "nbformat_minor": 2
}
