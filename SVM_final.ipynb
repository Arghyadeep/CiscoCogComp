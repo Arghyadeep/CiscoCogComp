{
 "cells": [
  {
   "cell_type": "code",
   "execution_count": 15,
   "metadata": {
    "collapsed": true
   },
   "outputs": [],
   "source": [
    "#readme\n",
    "#this file splits into testing and training"
   ]
  },
  {
   "cell_type": "code",
   "execution_count": 11,
   "metadata": {},
   "outputs": [],
   "source": [
    "#read in csv file\n",
    "import csv\n",
    "#vectorizes data.csv\n",
    "from sklearn.feature_extraction.text import TfidfVectorizer\n",
    "#used for dataframes\n",
    "import pandas as pd\n",
    "#used for splitting\n",
    "from sklearn.model_selection import train_test_split\n",
    "#used to perform SVM\n",
    "from sklearn import svm\n",
    "#used for metrics\n",
    "from sklearn.metrics import classification_report\n",
    "from sklearn import model_selection\n",
    "from sklearn.metrics import confusion_matrix\n",
    "from sklearn.model_selection import StratifiedKFold\n",
    "from sklearn.model_selection import cross_val_predict\n",
    "# import graphviz \n",
    "#used for upsampling\n",
    "from sklearn.utils import resample"
   ]
  },
  {
   "cell_type": "markdown",
   "metadata": {},
   "source": [
    "# Data Frame Creation"
   ]
  },
  {
   "cell_type": "code",
   "execution_count": 12,
   "metadata": {},
   "outputs": [],
   "source": [
    "#reads in \n",
    "df = pd.read_csv('M1.csv', encoding='utf-8')\n",
    "cat = '7CAT'"
   ]
  },
  {
   "cell_type": "code",
   "execution_count": 13,
   "metadata": {},
   "outputs": [
    {
     "data": {
      "text/html": [
       "<div>\n",
       "<style>\n",
       "    .dataframe thead tr:only-child th {\n",
       "        text-align: right;\n",
       "    }\n",
       "\n",
       "    .dataframe thead th {\n",
       "        text-align: left;\n",
       "    }\n",
       "\n",
       "    .dataframe tbody tr th {\n",
       "        vertical-align: top;\n",
       "    }\n",
       "</style>\n",
       "<table border=\"1\" class=\"dataframe\">\n",
       "  <thead>\n",
       "    <tr style=\"text-align: right;\">\n",
       "      <th></th>\n",
       "      <th>created</th>\n",
       "      <th>original_post</th>\n",
       "      <th>title</th>\n",
       "      <th>url</th>\n",
       "      <th>8CAT</th>\n",
       "      <th>7CAT</th>\n",
       "      <th>6CAT</th>\n",
       "      <th>5CAT</th>\n",
       "      <th>4CAT</th>\n",
       "      <th>org data</th>\n",
       "    </tr>\n",
       "  </thead>\n",
       "  <tbody>\n",
       "    <tr>\n",
       "      <th>0</th>\n",
       "      <td>2015</td>\n",
       "      <td>commun get stuck in sitetosit vpn configur bet...</td>\n",
       "      <td>IPsec VPN site-to-site between ASA and Cisco R...</td>\n",
       "      <td>https://supportforums.cisco.com/discussion/123...</td>\n",
       "      <td>0</td>\n",
       "      <td>1</td>\n",
       "      <td>1</td>\n",
       "      <td>0</td>\n",
       "      <td>1</td>\n",
       "      <td>x</td>\n",
       "    </tr>\n",
       "    <tr>\n",
       "      <th>1</th>\n",
       "      <td>2015</td>\n",
       "      <td>everyon problem site site vpn between two rout...</td>\n",
       "      <td>Site to site vpn problem</td>\n",
       "      <td>https://supportforums.cisco.com/discussion/124...</td>\n",
       "      <td>0</td>\n",
       "      <td>1</td>\n",
       "      <td>1</td>\n",
       "      <td>0</td>\n",
       "      <td>1</td>\n",
       "      <td>x</td>\n",
       "    </tr>\n",
       "    <tr>\n",
       "      <th>2</th>\n",
       "      <td>2015</td>\n",
       "      <td>enabl alwayson vpn asa 5540 like vpn client ab...</td>\n",
       "      <td>enabling 2 entries in cisco anyconnect client ...</td>\n",
       "      <td>https://supportforums.cisco.com/discussion/124...</td>\n",
       "      <td>0</td>\n",
       "      <td>1</td>\n",
       "      <td>1</td>\n",
       "      <td>0</td>\n",
       "      <td>1</td>\n",
       "      <td>x</td>\n",
       "    </tr>\n",
       "    <tr>\n",
       "      <th>3</th>\n",
       "      <td>2015</td>\n",
       "      <td>anyconnect secur mobiliy client give error tri...</td>\n",
       "      <td>Cisco AnyConnect Secure Mobility Client Failed...</td>\n",
       "      <td>https://supportforums.cisco.com/discussion/124...</td>\n",
       "      <td>0</td>\n",
       "      <td>1</td>\n",
       "      <td>1</td>\n",
       "      <td>0</td>\n",
       "      <td>1</td>\n",
       "      <td>x</td>\n",
       "    </tr>\n",
       "    <tr>\n",
       "      <th>4</th>\n",
       "      <td>2015</td>\n",
       "      <td>hope someon might abl help stump tri set up an...</td>\n",
       "      <td>Anyconnect on non standard port (eg 444)</td>\n",
       "      <td>https://supportforums.cisco.com/discussion/124...</td>\n",
       "      <td>0</td>\n",
       "      <td>1</td>\n",
       "      <td>1</td>\n",
       "      <td>0</td>\n",
       "      <td>1</td>\n",
       "      <td>x</td>\n",
       "    </tr>\n",
       "  </tbody>\n",
       "</table>\n",
       "</div>"
      ],
      "text/plain": [
       "   created                                      original_post  \\\n",
       "0     2015  commun get stuck in sitetosit vpn configur bet...   \n",
       "1     2015  everyon problem site site vpn between two rout...   \n",
       "2     2015  enabl alwayson vpn asa 5540 like vpn client ab...   \n",
       "3     2015  anyconnect secur mobiliy client give error tri...   \n",
       "4     2015  hope someon might abl help stump tri set up an...   \n",
       "\n",
       "                                               title  \\\n",
       "0  IPsec VPN site-to-site between ASA and Cisco R...   \n",
       "1                           Site to site vpn problem   \n",
       "2  enabling 2 entries in cisco anyconnect client ...   \n",
       "3  Cisco AnyConnect Secure Mobility Client Failed...   \n",
       "4           Anyconnect on non standard port (eg 444)   \n",
       "\n",
       "                                                 url  8CAT  7CAT  6CAT  5CAT  \\\n",
       "0  https://supportforums.cisco.com/discussion/123...     0     1     1     0   \n",
       "1  https://supportforums.cisco.com/discussion/124...     0     1     1     0   \n",
       "2  https://supportforums.cisco.com/discussion/124...     0     1     1     0   \n",
       "3  https://supportforums.cisco.com/discussion/124...     0     1     1     0   \n",
       "4  https://supportforums.cisco.com/discussion/124...     0     1     1     0   \n",
       "\n",
       "   4CAT org data  \n",
       "0     1        x  \n",
       "1     1        x  \n",
       "2     1        x  \n",
       "3     1        x  \n",
       "4     1        x  "
      ]
     },
     "execution_count": 13,
     "metadata": {},
     "output_type": "execute_result"
    }
   ],
   "source": [
    "df[:5]"
   ]
  },
  {
   "cell_type": "markdown",
   "metadata": {},
   "source": [
    "# Creates Training and Testing sets"
   ]
  },
  {
   "cell_type": "markdown",
   "metadata": {},
   "source": [
    "## Represents with TF-IDF"
   ]
  },
  {
   "cell_type": "code",
   "execution_count": 27,
   "metadata": {},
   "outputs": [
    {
     "name": "stdout",
     "output_type": "stream",
     "text": [
      "601\n",
      "67\n"
     ]
    }
   ],
   "source": [
    "#Current implementation \n",
    "#splits and then runs tf-idf\n",
    "\n",
    "#https://stackoverflow.com/questions/24147278/how-do-i-create-test-and-train-samples-from-one-dataframe-with-pandas\n",
    "#creates a training set of 180 values\n",
    "\n",
    "#used http://scikit-learn.org/stable/modules/generated/sklearn.model_selection.train_test_split.html\n",
    "train, test = train_test_split(df, test_size = .1)\n",
    "#split train set into \n",
    "print(len(train)) #601 training posts\n",
    "print(len(test)) #67\n",
    "\n",
    "tfidf = TfidfVectorizer(min_df = 2)\n",
    "#uses vectorizer to perform fit_transform\n",
    "train_tfs = tfidf.fit_transform(train['original_post'].values.astype('U'))\n",
    "#transforms to fit the vocabulary of the training set\n",
    "test_tfs = tfidf.transform(test['original_post'])\n",
    "whole_tfs = tfidf.fit_transform(df['original_post'])\n",
    "\n",
    "#creates a list of 180 values correlated to the training set\n",
    "num_list_train = train['7CAT'].values\n",
    "#creates a list of 20 values correlated to the test set\n",
    "num_list_test = test['7CAT'].values\n",
    "num_list_whole = df['7CAT'].values"
   ]
  },
  {
   "cell_type": "code",
   "execution_count": 28,
   "metadata": {},
   "outputs": [
    {
     "name": "stdout",
     "output_type": "stream",
     "text": [
      "3    194\n",
      "6    146\n",
      "2    107\n",
      "1     71\n",
      "5     60\n",
      "7     47\n",
      "4     43\n",
      "Name: 7CAT, dtype: int64\n",
      "(601, 3169)\n"
     ]
    }
   ],
   "source": [
    "print(df['7CAT'].value_counts())\n",
    "print(train_tfs.shape)"
   ]
  },
  {
   "cell_type": "markdown",
   "metadata": {},
   "source": [
    "# Implements SVM"
   ]
  },
  {
   "cell_type": "code",
   "execution_count": 29,
   "metadata": {},
   "outputs": [
    {
     "data": {
      "text/plain": [
       "SVC(C=1, cache_size=200, class_weight='balanced', coef0=0.0,\n",
       "  decision_function_shape='ovr', degree=3, gamma='auto', kernel='poly',\n",
       "  max_iter=-1, probability=False, random_state=None, shrinking=True,\n",
       "  tol=0.001, verbose=False)"
      ]
     },
     "execution_count": 29,
     "metadata": {},
     "output_type": "execute_result"
    }
   ],
   "source": [
    "#sets up instance of svm\n",
    "support = svm.SVC(C = 1, class_weight = 'balanced',kernel='poly')\n",
    "#feeds in (matrix, corresponding classificaiton value)\n",
    "support.fit(train_tfs,num_list_train)"
   ]
  },
  {
   "cell_type": "markdown",
   "metadata": {},
   "source": [
    "# Stratified K-Folds"
   ]
  },
  {
   "cell_type": "code",
   "execution_count": 30,
   "metadata": {
    "collapsed": true
   },
   "outputs": [],
   "source": [
    "def metrics():\n",
    "    \"\"\"\n",
    "    STRATIFIED\n",
    "    Prints out metrics for performace of: \n",
    "        SVM Classification\n",
    "        \n",
    "    taken from here\n",
    "    https://machinelearningmastery.com/metrics-evaluate-machine-learning-algorithms-python/\n",
    "    \"\"\"\n",
    "    #creates variables needed for metrics\n",
    "    #overall_tfs = tfidf.fit_transform(origin['original_post'])\n",
    "    #predicted = logistic.predict(test_tfs)\n",
    "    #overall_labels = origin['VPN #']\n",
    "    \n",
    "    #stratified cross validation\n",
    "    skf = StratifiedKFold(n_splits=10)\n",
    "    skf.get_n_splits(whole_tfs,num_list_whole)\n",
    "    print(skf)\n",
    "    \n",
    "    #for train_index, test_index in skf.split(overall_tfs, overall_labels):\n",
    "        #print(\"TRAIN:\", train_index, \"TEST:\", test_index)\n",
    "        #overall_tfs_train, overall_tfs_test = overall_tfs[train_index], overall_tfs[test_index]\n",
    "        #overall_labels_train, overall_labels_test = overall_labels[train_index], overall_labels[test_index]\n",
    "\n",
    "    print(\"SVM Classification Accuracy:\")\n",
    "\n",
    "    #accuracy\n",
    "    #results = model_selection.cross_val_score(support, whole_tfs,num_list_whole, cv=skf, scoring='accuracy')\n",
    "    #print(\"Accuracy: %.3f (%.3f)\\n\") % (results.mean(), results.std())\n",
    "\n",
    "    #confusion matrix\n",
    "    y_pred = cross_val_predict(support,whole_tfs,num_list_whole,cv=10)\n",
    "    conf_mat = confusion_matrix(num_list_whole ,y_pred)\n",
    "    print(\"Confusion Matrix:\\n%s\\n\"%conf_mat)\n",
    "\n",
    "    #classification report\n",
    "    y_pred = cross_val_predict(support,whole_tfs,num_list_whole,cv=10)\n",
    "    report = classification_report(num_list_whole, y_pred)\n",
    "    print(\"Classification Report:\\n%s\\n\"%report)\n",
    "\n",
    "  \n",
    "   "
   ]
  },
  {
   "cell_type": "code",
   "execution_count": 31,
   "metadata": {},
   "outputs": [
    {
     "name": "stdout",
     "output_type": "stream",
     "text": [
      "StratifiedKFold(n_splits=10, random_state=None, shuffle=False)\n",
      "SVM Classification Accuracy:\n",
      "Confusion Matrix:\n",
      "[[29  0  0 29  0  0 13]\n",
      " [41  0  0 50  0  0 16]\n",
      " [77  0  0 85  0  0 32]\n",
      " [17  0  0 23  0  0  3]\n",
      " [24  0  0 24  0  0 12]\n",
      " [57  0  0 64  0  0 25]\n",
      " [17  0  0 20  0  0 10]]\n",
      "\n",
      "Classification Report:\n",
      "             precision    recall  f1-score   support\n",
      "\n",
      "          1       0.11      0.41      0.17        71\n",
      "          2       0.00      0.00      0.00       107\n",
      "          3       0.00      0.00      0.00       194\n",
      "          4       0.08      0.53      0.14        43\n",
      "          5       0.00      0.00      0.00        60\n",
      "          6       0.00      0.00      0.00       146\n",
      "          7       0.09      0.21      0.13        47\n",
      "\n",
      "avg / total       0.02      0.09      0.04       668\n",
      "\n",
      "\n"
     ]
    }
   ],
   "source": [
    "#stratified\n",
    "metrics()"
   ]
  },
  {
   "cell_type": "code",
   "execution_count": 28,
   "metadata": {},
   "outputs": [
    {
     "name": "stdout",
     "output_type": "stream",
     "text": [
      "[3 4 4 4 3 3 2 3 3 3 3 4 3 3 3 3 2 1 3 3]\n"
     ]
    }
   ],
   "source": [
    "print(num_list_test)"
   ]
  },
  {
   "cell_type": "code",
   "execution_count": null,
   "metadata": {
    "collapsed": true
   },
   "outputs": [],
   "source": []
  },
  {
   "cell_type": "code",
   "execution_count": null,
   "metadata": {
    "collapsed": true
   },
   "outputs": [],
   "source": []
  }
 ],
 "metadata": {
  "kernelspec": {
   "display_name": "Python 2",
   "language": "python",
   "name": "python2"
  },
  "language_info": {
   "codemirror_mode": {
    "name": "ipython",
    "version": 2
   },
   "file_extension": ".py",
   "mimetype": "text/x-python",
   "name": "python",
   "nbconvert_exporter": "python",
   "pygments_lexer": "ipython2",
   "version": "2.7.13"
  }
 },
 "nbformat": 4,
 "nbformat_minor": 2
}
